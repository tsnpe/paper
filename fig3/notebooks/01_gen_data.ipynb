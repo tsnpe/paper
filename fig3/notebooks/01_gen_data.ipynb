{
 "cells": [
  {
   "cell_type": "code",
   "execution_count": 1,
   "id": "09a86205-e1d3-4508-9df6-506b89562ced",
   "metadata": {},
   "outputs": [],
   "source": [
    "%load_ext autoreload\n",
    "%autoreload 2"
   ]
  },
  {
   "cell_type": "code",
   "execution_count": 260,
   "id": "92fbd4ef-bb45-4772-8ef8-5ce94b0d9085",
   "metadata": {},
   "outputs": [],
   "source": [
    "import torch\n",
    "from torch import tensor, Tensor, as_tensor, float32, zeros, ones, eye\n",
    "from sbi.inference import SNPE\n",
    "import sbibm\n",
    "from sbi.utils import BoxUniform\n",
    "from sbi.utils.support_posterior import PosteriorSupport\n",
    "from sbi.analysis import pairplot\n",
    "import matplotlib as mpl\n",
    "import matplotlib.pyplot as plt\n",
    "import numpy as np\n",
    "from copy import deepcopy\n",
    "from tqdm import tqdm"
   ]
  },
  {
   "cell_type": "code",
   "execution_count": 258,
   "id": "62818ad4-d16c-4ca9-a310-6f4705b4be68",
   "metadata": {},
   "outputs": [],
   "source": [
    "def coverage(\n",
    "    posterior,\n",
    "    theta,\n",
    "    x,\n",
    "    used_features,\n",
    "    num_x: int = 100,\n",
    "    alpha=torch.linspace(0, 1, 50),\n",
    "    num_monte_carlo: int = 1_000,\n",
    "):\n",
    "    posterior = deepcopy(posterior)\n",
    "    gt_is_covered = zeros(alpha.shape)\n",
    "    theta = theta.numpy()\n",
    "    x = x.numpy()\n",
    "    x = x[:, used_features]\n",
    "    nonan = np.invert(np.any(np.isnan(x), axis=1))\n",
    "    x = x[nonan]\n",
    "    theta = theta[nonan]\n",
    "    x = x[:num_x]\n",
    "    theta = theta[:num_x]\n",
    "    with tqdm(total=len(theta)) as pbar:\n",
    "        for params, summstats in tqdm(zip(theta, x)):\n",
    "            xo = as_tensor(np.asarray([summstats]), dtype=float32)\n",
    "            posterior.set_default_x(xo)\n",
    "            lprobs = posterior.log_prob(\n",
    "                posterior.sample((num_monte_carlo,), show_progress_bars=False)\n",
    "            )\n",
    "            gt_log_prob = posterior.log_prob(\n",
    "                as_tensor(np.asarray([params]), dtype=float32)\n",
    "            )\n",
    "            rank_of_gt = compute_rank(gt_log_prob, lprobs)\n",
    "            norm_rank = rank_of_gt / lprobs.shape[0]\n",
    "            covered_in_alpha_quantile = norm_rank > alpha\n",
    "            gt_is_covered += covered_in_alpha_quantile.float()\n",
    "            pbar.update(1)\n",
    "    gt_is_covered /= x.shape[0]\n",
    "    return alpha, torch.flip(gt_is_covered, dims=[0])\n",
    "\n",
    "def compute_rank(val: Tensor, vec: Tensor):\n",
    "    c = torch.cat([vec, val])\n",
    "    s = torch.argsort(c)\n",
    "    ind = torch.where(s == len(c) - 1)\n",
    "    return ind[0]  # .where returns a tuple\n",
    "\n",
    "def plot_coverage(alpha, gt_is_covered):\n",
    "    fig, ax = plt.subplots(1, 1, figsize=(1.5, 1.5))\n",
    "    ax.plot([0, 1.0], [0, 1.0], c=\"grey\")\n",
    "    ax.plot(alpha, gt_is_covered)\n",
    "    ax.set_xticks([0, 1])\n",
    "    ax.set_yticks([0, 1])\n",
    "    ax.set_xlim([0, 1])\n",
    "    ax.set_ylim([0, 1])\n",
    "    ax.set_xlabel(\"Confidence level\")\n",
    "    ax.set_ylabel(\"Empirical coverage\")\n"
   ]
  },
  {
   "cell_type": "code",
   "execution_count": 295,
   "id": "6349bc1b-ba0b-4936-97a7-740d06c11759",
   "metadata": {},
   "outputs": [],
   "source": [
    "task = sbibm.get_task(\"two_moons\")  # See sbibm.get_available_tasks() for all tasks\n",
    "prior = task.get_prior()\n",
    "simulator = task.get_simulator()\n",
    "observation = task.get_observation(num_observation=1)  # 10 per task\n",
    "\n",
    "# These objects can then be used for custom inference algorithms, e.g.\n",
    "# we might want to generate simulations by sampling from prior:\n",
    "_ = torch.manual_seed(0)\n",
    "theta = prior(num_samples=1000)\n",
    "x = simulator(theta)"
   ]
  },
  {
   "cell_type": "code",
   "execution_count": 296,
   "id": "78fe68ed-815f-4508-aab9-8d46ee43d340",
   "metadata": {},
   "outputs": [
    {
     "name": "stdout",
     "output_type": "stream",
     "text": [
      " Neural network successfully converged after 970 epochs."
     ]
    }
   ],
   "source": [
    "_ = torch.manual_seed(0)\n",
    "inference = SNPE(density_estimator=\"maf\")\n",
    "_ = inference.append_simulations(theta, x).train(max_num_epochs=2000, training_batch_size=10000)"
   ]
  },
  {
   "cell_type": "code",
   "execution_count": 313,
   "id": "e54b744a-8637-4f6c-bd8b-5bacdd6f97e0",
   "metadata": {},
   "outputs": [
    {
     "data": {
      "application/vnd.jupyter.widget-view+json": {
       "model_id": "ec215a68e88a491ca1674b127b35006a",
       "version_major": 2,
       "version_minor": 0
      },
      "text/plain": [
       "Drawing 100000 posterior samples:   0%|          | 0/100000 [00:00<?, ?it/s]"
      ]
     },
     "metadata": {},
     "output_type": "display_data"
    }
   ],
   "source": [
    "posterior1 = inference.build_posterior().set_default_x(observation)\n",
    "proposal1 = PosteriorSupport(task.get_prior_dist(), posterior1, num_samples_to_estimate_support=100000, allowed_false_negatives=0.0001)"
   ]
  },
  {
   "cell_type": "code",
   "execution_count": 314,
   "id": "b4fcce61-92eb-4bee-9c3e-6817e153e6f5",
   "metadata": {},
   "outputs": [
    {
     "data": {
      "application/vnd.jupyter.widget-view+json": {
       "model_id": "1c262fb7a9874050b7976155c99785b3",
       "version_major": 2,
       "version_minor": 0
      },
      "text/plain": [
       "Drawing 10000 posterior samples:   0%|          | 0/10000 [00:00<?, ?it/s]"
      ]
     },
     "metadata": {},
     "output_type": "display_data"
    },
    {
     "name": "stdout",
     "output_type": "stream",
     "text": [
      "The classifier rejected 90.4000% of all samples. You will get a speed-up of 941.7%.\n"
     ]
    }
   ],
   "source": [
    "posterior_samples1 = posterior1.sample((10000,))\n",
    "support_samples = proposal1.sample((1000,))"
   ]
  },
  {
   "cell_type": "code",
   "execution_count": 338,
   "id": "82c09201-b80e-4f1e-a478-14e304576896",
   "metadata": {},
   "outputs": [
    {
     "data": {
      "image/png": "[encoded data removed]",
      "text/plain": [
       "<Figure size 130x130 with 1 Axes>"
      ]
     },
     "metadata": {},
     "output_type": "display_data"
    }
   ],
   "source": [
    "h, _, _ = np.histogram2d(reference_samples[:, 0].numpy(), reference_samples[:, 1].numpy(), bins=75, range=[[-1, 1], [-1, 1]])\n",
    "\n",
    "with mpl.rc_context(fname=\"../../.matplotlibrc\"):\n",
    "    fig, ax = plt.subplots(1, 1, figsize=(1.3, 1.3))\n",
    "    ax.imshow(h, extent=[-1, 1, -1, 1], origin=\"lower\")\n",
    "    ax.set_xticks([])\n",
    "    ax.set_yticks([])\n",
    "    ax.spines[\"bottom\"].set_visible(False)\n",
    "    ax.spines[\"left\"].set_visible(False)\n",
    "    plt.savefig(\"../svg/panel_a.svg\")"
   ]
  },
  {
   "cell_type": "code",
   "execution_count": 339,
   "id": "400f82fe-56a3-487e-8763-bc12a01266b1",
   "metadata": {},
   "outputs": [
    {
     "data": {
      "image/png": "[encoded data removed]",
      "text/plain": [
       "<Figure size 130x130 with 1 Axes>"
      ]
     },
     "metadata": {},
     "output_type": "display_data"
    }
   ],
   "source": [
    "h1, _, _ = np.histogram2d(posterior_samples1[:, 0].numpy(), posterior_samples1[:, 1].numpy(), bins=75, range=[[-1, 1], [-1, 1]])\n",
    "\n",
    "with mpl.rc_context(fname=\"../../.matplotlibrc\"):\n",
    "    fig, ax = plt.subplots(1, 1, figsize=(1.3, 1.3))\n",
    "    ax.imshow(h1, extent=[-1, 1, -1, 1], origin=\"lower\")\n",
    "    ax.set_xticks([])\n",
    "    ax.set_yticks([])\n",
    "    ax.spines[\"bottom\"].set_visible(False)\n",
    "    ax.spines[\"left\"].set_visible(False)\n",
    "    plt.savefig(\"../svg/panel_b1.svg\")"
   ]
  },
  {
   "cell_type": "code",
   "execution_count": 340,
   "id": "8377b3b7-6137-44ef-b4d2-f4ec9f0891f3",
   "metadata": {},
   "outputs": [],
   "source": [
    "x = torch.linspace(-1, 1, 100)\n",
    "X, Y = torch.meshgrid(x, x)\n",
    "xy = torch.stack([X, Y])\n",
    "xy = torch.reshape(xy, (2, 100**2)).T"
   ]
  },
  {
   "cell_type": "code",
   "execution_count": 318,
   "id": "a6da6691-3b54-43b9-a07c-00e638f7efeb",
   "metadata": {},
   "outputs": [],
   "source": [
    "support_probs = proposal1.predict(xy)\n",
    "support_probs = torch.reshape(support_probs, (100, 100))"
   ]
  },
  {
   "cell_type": "code",
   "execution_count": 319,
   "id": "903a9549-0728-4b9c-917c-8f115778703e",
   "metadata": {},
   "outputs": [],
   "source": [
    "reference_samples = task.get_reference_posterior_samples(num_observation=1)"
   ]
  },
  {
   "cell_type": "code",
   "execution_count": 341,
   "id": "d4cf2a40-0e21-45b3-951d-cd299aaa2e93",
   "metadata": {},
   "outputs": [
    {
     "data": {
      "image/png": "[encoded data removed]",
      "text/plain": [
       "<Figure size 130x130 with 1 Axes>"
      ]
     },
     "metadata": {},
     "output_type": "display_data"
    }
   ],
   "source": [
    "with mpl.rc_context(fname=\"../../.matplotlibrc\"):\n",
    "    fig, ax = plt.subplots(1, 1, figsize=(1.3, 1.3))\n",
    "    ax.imshow(support_probs.numpy(), extent=[-1, 1, -1, 1], origin=\"lower\")\n",
    "    ax.scatter(reference_samples[:100, 1].numpy(), reference_samples[:100, 0].numpy(), s=1, c=\"#d7301f\")\n",
    "    ax.set_xticks([])\n",
    "    ax.set_yticks([])\n",
    "    ax.spines[\"bottom\"].set_visible(False)\n",
    "    ax.spines[\"left\"].set_visible(False)\n",
    "    plt.savefig(\"../svg/panel_b2.svg\")"
   ]
  },
  {
   "cell_type": "code",
   "execution_count": 342,
   "id": "751f2940-47c0-4fab-9d08-b3f1d745f7f0",
   "metadata": {},
   "outputs": [],
   "source": [
    "pred = proposal.predict(reference_samples)"
   ]
  },
  {
   "cell_type": "code",
   "execution_count": 343,
   "id": "f5520393-a6fc-4e65-b41d-8b5ddc28e15c",
   "metadata": {},
   "outputs": [
    {
     "name": "stdout",
     "output_type": "stream",
     "text": [
      "Fraction of accepted 100.0 %\n"
     ]
    }
   ],
   "source": [
    "print(\"Fraction of accepted\", (torch.sum(pred)/reference_samples.shape[0]).item()*100, \"%\")"
   ]
  },
  {
   "cell_type": "code",
   "execution_count": 263,
   "id": "743cd6df-27e2-4888-b70f-8b1fd84b928f",
   "metadata": {},
   "outputs": [
    {
     "name": "stderr",
     "output_type": "stream",
     "text": [
      "  0%|                                                                                                           | 0/100 [00:00<?, ?it/s]\n",
      "  6%|█████▉                                                                                             | 6/100 [00:00<00:01, 58.87it/s]\n",
      " 14%|█████████████▋                                                                                    | 14/100 [00:00<00:01, 66.18it/s]\n",
      " 22%|█████████████████████▌                                                                            | 22/100 [00:00<00:01, 69.53it/s]\n",
      " 30%|█████████████████████████████▍                                                                    | 30/100 [00:00<00:00, 71.16it/s]\n",
      " 38%|█████████████████████████████████████▏                                                            | 38/100 [00:00<00:00, 72.43it/s]\n",
      " 46%|█████████████████████████████████████████████                                                     | 46/100 [00:00<00:00, 72.66it/s]\n",
      " 54%|████████████████████████████████████████████████████▉                                             | 54/100 [00:00<00:00, 73.15it/s]\n",
      " 62%|████████████████████████████████████████████████████████████▊                                     | 62/100 [00:00<00:00, 73.59it/s]\n",
      " 70%|████████████████████████████████████████████████████████████████████▌                             | 70/100 [00:00<00:00, 73.86it/s]\n",
      " 78%|████████████████████████████████████████████████████████████████████████████▍                     | 78/100 [00:01<00:00, 73.59it/s]\n",
      " 86%|████████████████████████████████████████████████████████████████████████████████████▎             | 86/100 [00:01<00:00, 73.95it/s]\n",
      " 94%|████████████████████████████████████████████████████████████████████████████████████████████      | 94/100 [00:01<00:00, 73.39it/s]\n",
      "100it [00:01, 72.54it/s][A\n",
      "100%|█████████████████████████████████████████████████████████████████████████████████████████████████| 100/100 [00:01<00:00, 72.42it/s]\n"
     ]
    }
   ],
   "source": [
    "theta = prior(num_samples=100)\n",
    "x = simulator(theta)\n",
    "alpha, gt_is_covered = coverage(posterior, theta, x, [0, 1])"
   ]
  },
  {
   "cell_type": "code",
   "execution_count": 344,
   "id": "18b3e11f-dd83-4057-9401-f95346f3b256",
   "metadata": {},
   "outputs": [
    {
     "data": {
      "image/png": "[encoded data removed]",
      "text/plain": [
       "<Figure size 130x130 with 1 Axes>"
      ]
     },
     "metadata": {},
     "output_type": "display_data"
    }
   ],
   "source": [
    "with mpl.rc_context(fname=\"../../.matplotlibrc\"):\n",
    "    fig, ax = plt.subplots(1, 1, figsize=(1.3, 1.3))\n",
    "    ax.plot([0, 1.0], [0, 1.0], c=\"grey\")\n",
    "    ax.plot(alpha, gt_is_covered)\n",
    "    ax.set_xticks([0, 1])\n",
    "    ax.set_yticks([0, 1])\n",
    "    ax.set_xlim([0, 1])\n",
    "    ax.set_ylim([0, 1])\n",
    "    ax.set_xlabel(\"Confidence level\")\n",
    "    ax.set_ylabel(\"Empirical coverage\")\n",
    "    plt.savefig(\"../svg/panel_c.svg\")"
   ]
  },
  {
   "cell_type": "code",
   "execution_count": 268,
   "id": "8de66156-020a-4841-8231-dd2a0dde8b4d",
   "metadata": {},
   "outputs": [],
   "source": [
    "prior_ = task.get_prior_dist()"
   ]
  },
  {
   "cell_type": "code",
   "execution_count": 270,
   "id": "b9ea570d-216b-4fdc-813b-8966756788fc",
   "metadata": {},
   "outputs": [
    {
     "name": "stdout",
     "output_type": "stream",
     "text": [
      " Neural network successfully converged after 225 epochs."
     ]
    },
    {
     "data": {
      "application/vnd.jupyter.widget-view+json": {
       "model_id": "1528b171e1dc4c168b6a15c8a37ed5e8",
       "version_major": 2,
       "version_minor": 0
      },
      "text/plain": [
       "Drawing 100000 posterior samples:   0%|          | 0/100000 [00:00<?, ?it/s]"
      ]
     },
     "metadata": {},
     "output_type": "display_data"
    },
    {
     "name": "stdout",
     "output_type": "stream",
     "text": [
      "The classifier rejected 42.1000% of all samples. You will get a speed-up of 72.7%.\n",
      " Neural network successfully converged after 173 epochs."
     ]
    },
    {
     "data": {
      "application/vnd.jupyter.widget-view+json": {
       "model_id": "dcafe7d89f094a7e9a01db6fdc521e24",
       "version_major": 2,
       "version_minor": 0
      },
      "text/plain": [
       "Drawing 100000 posterior samples:   0%|          | 0/100000 [00:00<?, ?it/s]"
      ]
     },
     "metadata": {},
     "output_type": "display_data"
    },
    {
     "name": "stdout",
     "output_type": "stream",
     "text": [
      "The classifier rejected 59.6300% of all samples. You will get a speed-up of 147.7%.\n",
      " Neural network successfully converged after 295 epochs."
     ]
    },
    {
     "data": {
      "application/vnd.jupyter.widget-view+json": {
       "model_id": "f91f835136b14aba8fceab200b5b29ef",
       "version_major": 2,
       "version_minor": 0
      },
      "text/plain": [
       "Drawing 100000 posterior samples:   0%|          | 0/100000 [00:00<?, ?it/s]"
      ]
     },
     "metadata": {},
     "output_type": "display_data"
    },
    {
     "name": "stdout",
     "output_type": "stream",
     "text": [
      "The classifier rejected 74.9000% of all samples. You will get a speed-up of 298.4%.\n",
      " Neural network successfully converged after 64 epochs."
     ]
    },
    {
     "data": {
      "application/vnd.jupyter.widget-view+json": {
       "model_id": "370afe0f345b4635b04f74326505cf57",
       "version_major": 2,
       "version_minor": 0
      },
      "text/plain": [
       "Drawing 100000 posterior samples:   0%|          | 0/100000 [00:00<?, ?it/s]"
      ]
     },
     "metadata": {},
     "output_type": "display_data"
    },
    {
     "name": "stdout",
     "output_type": "stream",
     "text": [
      "The classifier rejected 77.5900% of all samples. You will get a speed-up of 346.2%.\n",
      " Neural network successfully converged after 64 epochs."
     ]
    },
    {
     "data": {
      "application/vnd.jupyter.widget-view+json": {
       "model_id": "1ece9ceecdd84fec870794f17232c7a2",
       "version_major": 2,
       "version_minor": 0
      },
      "text/plain": [
       "Drawing 100000 posterior samples:   0%|          | 0/100000 [00:00<?, ?it/s]"
      ]
     },
     "metadata": {},
     "output_type": "display_data"
    },
    {
     "name": "stdout",
     "output_type": "stream",
     "text": [
      "The classifier rejected 81.3500% of all samples. You will get a speed-up of 436.2%.\n",
      " Neural network successfully converged after 82 epochs."
     ]
    },
    {
     "data": {
      "application/vnd.jupyter.widget-view+json": {
       "model_id": "ab234efc83b14af99af112a2bb449d0b",
       "version_major": 2,
       "version_minor": 0
      },
      "text/plain": [
       "Drawing 100000 posterior samples:   0%|          | 0/100000 [00:00<?, ?it/s]"
      ]
     },
     "metadata": {},
     "output_type": "display_data"
    },
    {
     "name": "stdout",
     "output_type": "stream",
     "text": [
      "The classifier rejected 76.7000% of all samples. You will get a speed-up of 329.2%.\n",
      " Neural network successfully converged after 108 epochs."
     ]
    },
    {
     "data": {
      "application/vnd.jupyter.widget-view+json": {
       "model_id": "f7b64e981523409d974064fe5d75a544",
       "version_major": 2,
       "version_minor": 0
      },
      "text/plain": [
       "Drawing 100000 posterior samples:   0%|          | 0/100000 [00:00<?, ?it/s]"
      ]
     },
     "metadata": {},
     "output_type": "display_data"
    },
    {
     "name": "stdout",
     "output_type": "stream",
     "text": [
      "The classifier rejected 80.6400% of all samples. You will get a speed-up of 416.5%.\n",
      " Neural network successfully converged after 75 epochs."
     ]
    },
    {
     "data": {
      "application/vnd.jupyter.widget-view+json": {
       "model_id": "ef1ee4df79af4e27a833c3a6eeb4f420",
       "version_major": 2,
       "version_minor": 0
      },
      "text/plain": [
       "Drawing 100000 posterior samples:   0%|          | 0/100000 [00:00<?, ?it/s]"
      ]
     },
     "metadata": {},
     "output_type": "display_data"
    },
    {
     "name": "stdout",
     "output_type": "stream",
     "text": [
      "The classifier rejected 77.6700% of all samples. You will get a speed-up of 347.8%.\n",
      " Neural network successfully converged after 69 epochs."
     ]
    },
    {
     "data": {
      "application/vnd.jupyter.widget-view+json": {
       "model_id": "cb16ec77e0e94be699974985edc093f8",
       "version_major": 2,
       "version_minor": 0
      },
      "text/plain": [
       "Drawing 100000 posterior samples:   0%|          | 0/100000 [00:00<?, ?it/s]"
      ]
     },
     "metadata": {},
     "output_type": "display_data"
    },
    {
     "name": "stdout",
     "output_type": "stream",
     "text": [
      "The classifier rejected 79.2900% of all samples. You will get a speed-up of 382.9%.\n",
      " Neural network successfully converged after 84 epochs."
     ]
    },
    {
     "data": {
      "application/vnd.jupyter.widget-view+json": {
       "model_id": "ba93cefdee934c70b83016a2ae5f01e0",
       "version_major": 2,
       "version_minor": 0
      },
      "text/plain": [
       "Drawing 100000 posterior samples:   0%|          | 0/100000 [00:00<?, ?it/s]"
      ]
     },
     "metadata": {},
     "output_type": "display_data"
    }
   ],
   "source": [
    "_ = torch.manual_seed(0)\n",
    "inference = SNPE(density_estimator=\"nsf\")\n",
    "proposal = prior_\n",
    "for _ in range(10):\n",
    "    theta = proposal.sample((1000,))\n",
    "    x = simulator(theta)\n",
    "\n",
    "    _ = inference.append_simulations(theta, x).train(max_num_epochs=2000, training_batch_size=10000, force_first_round_loss=True)\n",
    "    posterior = inference.build_posterior().set_default_x(observation)\n",
    "    proposal = PosteriorSupport(task.get_prior_dist(), posterior, num_samples_to_estimate_support=100000, allowed_false_negatives=0.0001)"
   ]
  },
  {
   "cell_type": "code",
   "execution_count": 271,
   "id": "ec5ed1f0-d9a1-4d67-9fb3-4146b306c00c",
   "metadata": {},
   "outputs": [
    {
     "data": {
      "application/vnd.jupyter.widget-view+json": {
       "model_id": "0280b720cf244fc596cfcaf7bc314e9b",
       "version_major": 2,
       "version_minor": 0
      },
      "text/plain": [
       "Drawing 10000 posterior samples:   0%|          | 0/10000 [00:00<?, ?it/s]"
      ]
     },
     "metadata": {},
     "output_type": "display_data"
    }
   ],
   "source": [
    "posterior_samples = posterior.sample((10000,))"
   ]
  },
  {
   "cell_type": "code",
   "execution_count": 345,
   "id": "44be2659-1331-419f-8df9-3f211fa7c7cd",
   "metadata": {},
   "outputs": [
    {
     "data": {
      "image/png": "[encoded data removed]",
      "text/plain": [
       "<Figure size 130x130 with 1 Axes>"
      ]
     },
     "metadata": {},
     "output_type": "display_data"
    }
   ],
   "source": [
    "h, _, _ = np.histogram2d(posterior_samples[:, 0].numpy(), posterior_samples[:, 1].numpy(), bins=75, range=[[-1, 1], [-1, 1]])\n",
    "\n",
    "with mpl.rc_context(fname=\"../../.matplotlibrc\"):\n",
    "    fig, ax = plt.subplots(1, 1, figsize=(1.3, 1.3))\n",
    "    ax.imshow(h, extent=[-1, 1, -1, 1], origin=\"lower\")\n",
    "    ax.set_xticks([])\n",
    "    ax.set_yticks([])\n",
    "    ax.spines[\"bottom\"].set_visible(False)\n",
    "    ax.spines[\"left\"].set_visible(False)\n",
    "    plt.savefig(\"../svg/panel_d.svg\")"
   ]
  },
  {
   "cell_type": "code",
   "execution_count": 346,
   "id": "4af39e3d-5596-4ca4-8184-4deb71ce067f",
   "metadata": {},
   "outputs": [],
   "source": [
    "import time\n",
    "import IPython.display as IPd\n",
    "\n",
    "def svg(img):\n",
    "    IPd.display(IPd.HTML('<img src=\"{}\" / >'.format(img, time.time())))"
   ]
  },
  {
   "cell_type": "code",
   "execution_count": 358,
   "id": "8727bdd9-b140-497f-b48a-87f4b3903524",
   "metadata": {},
   "outputs": [
    {
     "data": {
      "text/html": [
       "<img src=\"../fig/fig3.svg\" / >"
      ],
      "text/plain": [
       "<IPython.core.display.HTML object>"
      ]
     },
     "metadata": {},
     "output_type": "display_data"
    }
   ],
   "source": [
    "from svgutils.compose import *\n",
    "\n",
    "# > Inkscape pixel is 1/90 of an inch, other software usually uses 1/72.\n",
    "# > http://www.inkscapeforum.com/viewtopic.php?f=6&t=5964\n",
    "svg_scale = 1.25  # set this to 1.25 for Inkscape, 1.0 otherwise\n",
    "\n",
    "# Panel letters in Helvetica Neue, 12pt, Medium\n",
    "kwargs_text = {'size': '12pt', 'font': 'Arial', 'weight': '800'}\n",
    "kwargs_consistent = {'size': '10pt', 'font': 'Arial', 'weight': '500', 'color': '#AF99EF'}\n",
    "kwargs_consistent1 = {'size': '10pt', 'font': 'Arial', 'weight': '500', 'color': '#9E7DD5'}\n",
    "kwargs_inconsistent = {'size': '10pt', 'font': 'Arial', 'weight': '500', 'color': '#AF99EF'}\n",
    "kwargs_text8pt = {'size': '7.7pt', 'font': 'Arial'}\n",
    "\n",
    "f = Figure(\"15.7cm\", \"3.7cm\",\n",
    "           \n",
    "    Panel(\n",
    "          SVG(\"../svg/panel_a.svg\").scale(svg_scale).move(0, 0),\n",
    "          Text(\"a\", 5, 8.0, **kwargs_text),\n",
    "    ).move(-5, 5),\n",
    "    Panel(\n",
    "          SVG(\"../svg/panel_b1.svg\").scale(svg_scale).move(0, 0),\n",
    "          Text(\"b\", -10, 8.0, **kwargs_text),\n",
    "    ).move(115, 5),\n",
    "    Panel(\n",
    "          SVG(\"../svg/panel_b2.svg\").scale(svg_scale).move(0, 0),\n",
    "    ).move(215, 5),\n",
    "    Panel(\n",
    "          SVG(\"../svg/panel_c.svg\").scale(svg_scale).move(0, 0),\n",
    "          Text(\"c\", -10, 13.0, **kwargs_text),\n",
    "    ).move(335, 0),\n",
    "    Panel(\n",
    "          SVG(\"../svg/panel_d.svg\").scale(svg_scale).move(0, 0),\n",
    "          Text(\"d\", -10, 13.0, **kwargs_text),\n",
    "    ).move(492, 0),\n",
    ")\n",
    "\n",
    "f.save(\"../fig/fig3.svg\")\n",
    "svg('../fig/fig3.svg')"
   ]
  },
  {
   "cell_type": "code",
   "execution_count": null,
   "id": "b4441bab-9aae-4d1e-8af9-ff148382e6e2",
   "metadata": {},
   "outputs": [],
   "source": []
  },
  {
   "cell_type": "code",
   "execution_count": null,
   "id": "d62b685b-b023-4f71-884d-46617e9c0e6c",
   "metadata": {},
   "outputs": [],
   "source": []
  }
 ],
 "metadata": {
  "kernelspec": {
   "display_name": "Python 3 (ipykernel)",
   "language": "python",
   "name": "python3"
  },
  "language_info": {
   "codemirror_mode": {
    "name": "ipython",
    "version": 3
   },
   "file_extension": ".py",
   "mimetype": "text/x-python",
   "name": "python",
   "nbconvert_exporter": "python",
   "pygments_lexer": "ipython3",
   "version": "3.8.13"
  }
 },
 "nbformat": 4,
 "nbformat_minor": 5
}
