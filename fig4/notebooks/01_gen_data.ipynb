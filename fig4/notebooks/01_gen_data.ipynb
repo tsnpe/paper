{
 "cells": [
  {
   "cell_type": "code",
   "execution_count": 1,
   "id": "16c582b8-57e8-43bf-864c-7dba34a77fc9",
   "metadata": {},
   "outputs": [],
   "source": [
    "import pandas as pd\n",
    "from sbibm.visualisation import fig_metric\n",
    "import matplotlib.pyplot as plt\n",
    "import matplotlib as mpl\n",
    "import scipy.stats as st\n",
    "import numpy as np\n",
    "import seaborn as sns"
   ]
  },
  {
   "cell_type": "code",
   "execution_count": 2,
   "id": "b7f4def1-e33f-46ce-bfcc-df7456e8e757",
   "metadata": {},
   "outputs": [],
   "source": [
    "from joblib import Parallel, delayed"
   ]
  },
  {
   "cell_type": "code",
   "execution_count": 3,
   "id": "6c45b5ab-57f6-43b3-ab49-178449305bbb",
   "metadata": {},
   "outputs": [],
   "source": [
    "def my_fun(x, y):\n",
    "    return x*y"
   ]
  },
  {
   "cell_type": "code",
   "execution_count": 6,
   "id": "767b4eb1-80a7-4cd9-ac43-163f7e8ee177",
   "metadata": {},
   "outputs": [],
   "source": [
    "inferences = Parallel(n_jobs=3)(\n",
    "    delayed(my_fun)(s, 2*s) for s in range(3)\n",
    ")"
   ]
  },
  {
   "cell_type": "code",
   "execution_count": 7,
   "id": "3e83c01f-8ff6-4976-a099-c7c87f458791",
   "metadata": {},
   "outputs": [],
   "source": [
    "def mean_confidence_interval(data, confidence=0.95):\n",
    "    return sns.utils.ci(sns.algorithms.bootstrap(data))"
   ]
  },
  {
   "cell_type": "code",
   "execution_count": 8,
   "id": "f81e37c0-3d09-49d0-9902-760d750ea368",
   "metadata": {},
   "outputs": [],
   "source": [
    "df = pd.read_pickle(\"../../results/results_thr2_compiled.pkl\")"
   ]
  },
  {
   "cell_type": "code",
   "execution_count": 9,
   "id": "b0e02205-bf0b-4f61-aebe-d2c393373e7e",
   "metadata": {},
   "outputs": [],
   "source": [
    "df1 = pd.read_csv(\"../../results/sbibm_results.csv\")"
   ]
  },
  {
   "cell_type": "code",
   "execution_count": 123,
   "id": "fb0bc993-018b-4181-881c-475b163f1565",
   "metadata": {},
   "outputs": [],
   "source": [
    "def extract_diagnostic(df, key=\"gt in support\"):\n",
    "    full = []\n",
    "    for n in [1000, 10000, 100000]:\n",
    "        a = df.query(f\"num_simulations=={n}\")[key]\n",
    "        b = np.asarray(a.to_numpy())\n",
    "        all_lists = []\n",
    "        for aa in b:\n",
    "            aaa = aa[1:-2]\n",
    "            splitted = list(aaa.split(\", \"))\n",
    "            new_ = []\n",
    "            for s in splitted:\n",
    "                new_.append(float(s))\n",
    "            all_lists.append(new_)\n",
    "        all_lists = np.asarray(all_lists)\n",
    "        full.append(all_lists)\n",
    "    return np.asarray(full)"
   ]
  },
  {
   "cell_type": "code",
   "execution_count": 11,
   "id": "6f934d31-7c35-4e11-806b-4db4e659ace7",
   "metadata": {},
   "outputs": [],
   "source": [
    "npe_results = df1.query(\"algorithm == 'NPE'\")\n",
    "snpe_results = df1.query(\"algorithm == 'SNPE'\")"
   ]
  },
  {
   "cell_type": "code",
   "execution_count": 12,
   "id": "a25ca6f1-c54e-437a-b795-e97443fcefe7",
   "metadata": {},
   "outputs": [],
   "source": [
    "all_results = pd.concat([df, npe_results, snpe_results])"
   ]
  },
  {
   "cell_type": "code",
   "execution_count": 13,
   "id": "15ca74ee-9897-4f95-afdb-a4c8b133a422",
   "metadata": {},
   "outputs": [],
   "source": [
    "keywords = {}\n",
    "keywords[\"width\"] = 300 / 3\n",
    "keywords[\"height\"] = 45\n",
    "\n",
    "style = {}\n",
    "style[\"font_size\"] = 8\n",
    "style[\"font_family\"] = \"Inter\"\n",
    "y_axis_kwargs = {\"minExtent\": 60}"
   ]
  },
  {
   "cell_type": "code",
   "execution_count": 14,
   "id": "f771ed1a-1205-41ae-8865-fb503f039387",
   "metadata": {},
   "outputs": [],
   "source": [
    "from typing import Any, Dict, List, Optional\n",
    "\n",
    "import altair as alt\n",
    "import deneb as den\n",
    "import pandas as pd\n",
    "\n",
    "\n",
    "def fig_metric(\n",
    "    df: pd.DataFrame,\n",
    "    metric: str,\n",
    "    title: Optional[str] = None,\n",
    "    title_dx: int = 0,\n",
    "    width: Optional[int] = None,\n",
    "    height: Optional[int] = None,\n",
    "    labels: bool = True,\n",
    "    keywords: Dict[str, Any] = {},\n",
    "    style: Dict[str, Any] = {},\n",
    "    default_color: str = \"#000000\",\n",
    "    colors_dict: Dict[str, Any] = {},\n",
    "    config: Optional[str] = None,\n",
    "):\n",
    "    \"\"\"Plots metrics\n",
    "    Args:\n",
    "        df: Dataframe which at least has columns `algorithm`, `num_simulations` and\n",
    "            a column titled accordingly to `metric`.\n",
    "        metric: Metric to plot, should be a column in `df`.\n",
    "        title: Title for plot\n",
    "        title_dx: x-direction offset for title\n",
    "        labels: Whether to plot labels\n",
    "        seed: Seed\n",
    "        width: Width\n",
    "        height: Height\n",
    "        default_color: Default color of samples\n",
    "        colors_dict: Dictionary of colors\n",
    "        config: Optional string to load predefined config\n",
    "        style: Optional dictionary for `den.set_style`\n",
    "        keywords: Optional dictionary passed on to `den.lineplot`\n",
    "    Returns:\n",
    "        Chart\n",
    "    Note:\n",
    "        Due to an open issue on vega-lite, it is difficult to sort columns in\n",
    "        non-alphabetical fashion (i.e., ordered by algorithm name). As a workaround,\n",
    "        consider prepending an algorithm with a space to have it listed first, e.g.\n",
    "        `df.loc[df[\"algorithm\"] == \"REJ-ABC\", \"algorithm\"] = \" REJ-ABC\"`.\n",
    "        See also: https://github.com/vega/vega-lite/issues/5366/\n",
    "    \"\"\"\n",
    "    colors = {}\n",
    "    for algorithm in df.algorithm.unique():\n",
    "        algorithm_stripped = algorithm.strip()\n",
    "        if algorithm_stripped not in colors_dict:\n",
    "            colors[algorithm] = default_color\n",
    "        else:\n",
    "            colors[algorithm] = colors_dict[algorithm_stripped]\n",
    "\n",
    "    keywords[\"column_labels\"] = labels\n",
    "    keywords[\"color\"] = den.colorscale(colors, shorthand=\"algorithm:N\")\n",
    "\n",
    "    x_axis_kwargs = {}\n",
    "    y_axis_kwargs = {}\n",
    "\n",
    "    if config == \"manuscript\":\n",
    "        keywords[\"width\"] = 700 / len(df.algorithm.unique()) if width is None else width\n",
    "        keywords[\"height\"] = 65 if height is None else height\n",
    "        style[\"font_size\"] = 12\n",
    "        style[\"font_family\"] = \"Inter\"\n",
    "        y_axis_kwargs = {\"minExtent\": 60}\n",
    "\n",
    "    if config == \"streamlit\":\n",
    "        keywords[\"width\"] = None if width is None else width\n",
    "        keywords[\"height\"] = None if height is None else height\n",
    "        style[\"font_size\"] = 16\n",
    "\n",
    "    keywords[\"limits\"] = None\n",
    "    keywords[\"log_y\"] = False\n",
    "    keywords[\"y_axis\"] = alt.Axis(title=metric)\n",
    "\n",
    "    if \"MMD\" in metric:\n",
    "        keywords[\"y_axis\"] = alt.Axis(title=\"MMD²\")\n",
    "\n",
    "    if \"C2ST\" in metric:\n",
    "        keywords[\"limits\"] = [0.5, 1.0]\n",
    "        \n",
    "    if metric == \"RT\":\n",
    "        keywords[\"log_y\"] = True\n",
    "        keywords[\"limits\"] = [0.001, 1000.0]\n",
    "        keywords[\"y_axis\"] = alt.Axis(\n",
    "            values=[0.001, 0.01, 0.1, 0.0, 1.0, 10.0, 100.0, 1000.0]\n",
    "        )\n",
    "\n",
    "    alt.themes.enable(\"default\")\n",
    "\n",
    "    den.set_style(\n",
    "        extra={\n",
    "            \"config\": {\n",
    "                \"axisX\": {\n",
    "                    \"grid\": False,\n",
    "                    \"labelAngle\": 270,\n",
    "                    \"domain\": False,\n",
    "                    \"domainWidth\": 0,\n",
    "                    \"ticks\": False,\n",
    "                    \"labels\": False,\n",
    "                    \"tickWidth\": 0,\n",
    "                    \"minExtent\": 0,\n",
    "                    **x_axis_kwargs,\n",
    "                },\n",
    "                \"axisY\": {\n",
    "                    \"domain\": False,\n",
    "                    \"domainWidth\": 0,\n",
    "                    \"ticks\": True,\n",
    "                    \"tickWidth\": 0,\n",
    "                    \"grid\": True,\n",
    "                    \"titlePadding\": 0,\n",
    "                    \"tickCount\": 6.0,\n",
    "                    **y_axis_kwargs,\n",
    "                },\n",
    "            }\n",
    "        },\n",
    "        **style,\n",
    "    )\n",
    "\n",
    "    chart = den.lineplot(\n",
    "        df.sort_values(\"algorithm\"),\n",
    "        x=\"num_simulations:O\",\n",
    "        y=f\"{metric}:Q\",\n",
    "        error_extent=\"ci\",\n",
    "        column=\"algorithm:N\",\n",
    "        independent_y=False,\n",
    "        row_title=\"\",\n",
    "        column_title=\"\",\n",
    "        title_orient=\"bottom\",\n",
    "        **keywords,\n",
    "    )\n",
    "\n",
    "    chart = chart.configure_point(size=50).configure_line(size=1.5)\n",
    "\n",
    "    if title is not None:\n",
    "        chart = chart.properties(title={\"text\": [title],}).configure_title(\n",
    "            offset=10,\n",
    "            orient=\"top\",\n",
    "            anchor=\"middle\",\n",
    "            dx=title_dx,\n",
    "        )\n",
    "\n",
    "    return chart"
   ]
  },
  {
   "cell_type": "code",
   "execution_count": 30,
   "id": "afbe5982-9481-4285-a6a5-7806f8497437",
   "metadata": {},
   "outputs": [],
   "source": [
    "from typing import Any, Dict, List, Optional\n",
    "\n",
    "import altair as alt\n",
    "import deneb as den\n",
    "import pandas as pd\n",
    "\n",
    "\n",
    "def fig_metric_mpl(\n",
    "    df: pd.DataFrame,\n",
    "    metric: str,\n",
    "    width: float = 3.5,\n",
    "    height: float = 0.8,\n",
    "    xlabel: bool = True,\n",
    "    title: bool = False,\n",
    "    task_name: str = \"\"\n",
    "):\n",
    "    col_npe = \"#8c6bb1\"\n",
    "    col_snpe = \"#810f7c\"\n",
    "    col_tsnpe = \"k\"\n",
    "    \n",
    "    fig, ax = plt.subplots(1, 3, figsize=(width, height))\n",
    "    \n",
    "    snpe_1000 = df.query(\"algorithm == 'SNPE' & num_simulations == '10³'\")[metric].mean()\n",
    "    npe_1000 = df.query(\"algorithm == 'NPE' & num_simulations == '10³'\")[metric].mean()\n",
    "    tsnpe_1000 = df.query(\"algorithm == 'tsnpe' & num_simulations == 1000\")[metric].mean()\n",
    "    snpe_10000 = df.query(\"algorithm == 'SNPE' & num_simulations == '10⁴'\")[metric].mean()\n",
    "    npe_10000 = df.query(\"algorithm == 'NPE' & num_simulations == '10⁴'\")[metric].mean()\n",
    "    tsnpe_10000 = df.query(\"algorithm == 'tsnpe' & num_simulations == 10000\")[metric].mean()\n",
    "    snpe_100000 = df.query(\"algorithm == 'SNPE' & num_simulations == '10⁵'\")[metric].mean()\n",
    "    npe_100000 = df.query(\"algorithm == 'NPE' & num_simulations == '10⁵'\")[metric].mean()\n",
    "    tsnpe_100000 = df.query(\"algorithm == 'tsnpe' & num_simulations == 100000\")[metric].mean()\n",
    "    \n",
    "    lower_conf_snpe_1000, upper_conf_snpe_1000 = mean_confidence_interval(df.query(\"algorithm == 'SNPE' & num_simulations == '10³'\")[metric])\n",
    "    lower_conf_npe_1000, upper_conf_npe_1000 = mean_confidence_interval(df.query(\"algorithm == 'NPE' & num_simulations == '10³'\")[metric])\n",
    "    lower_conf_tsnpe_1000, upper_conf_tsnpe_1000 = mean_confidence_interval(df.query(\"algorithm == 'tsnpe' & num_simulations == 1000\")[metric])\n",
    "    lower_conf_snpe_10000, upper_conf_snpe_10000 = mean_confidence_interval(df.query(\"algorithm == 'SNPE' & num_simulations == '10⁴'\")[metric])\n",
    "    lower_conf_npe_10000, upper_conf_npe_10000 = mean_confidence_interval(df.query(\"algorithm == 'NPE' & num_simulations == '10⁴'\")[metric])\n",
    "    lower_conf_tsnpe_10000, upper_conf_tsnpe_10000 = mean_confidence_interval(df.query(\"algorithm == 'tsnpe' & num_simulations == 10000\")[metric])\n",
    "    lower_conf_snpe_100000, upper_conf_snpe_100000 = mean_confidence_interval(df.query(\"algorithm == 'SNPE' & num_simulations == '10⁵'\")[metric])\n",
    "    lower_conf_npe_100000, upper_conf_npe_100000 = mean_confidence_interval(df.query(\"algorithm == 'NPE' & num_simulations == '10⁵'\")[metric])\n",
    "    lower_conf_tsnpe_100000, upper_conf_tsnpe_100000 = mean_confidence_interval(df.query(\"algorithm == 'tsnpe' & num_simulations == 100000\")[metric])\n",
    "    \n",
    "    ax[0].plot([npe_1000, npe_10000, npe_100000], c=col_npe)\n",
    "    ax[1].plot([snpe_1000, snpe_10000, snpe_100000], c=col_snpe)\n",
    "    ax[2].plot([tsnpe_1000, tsnpe_10000, tsnpe_100000], c=col_tsnpe)\n",
    "    ax[0].scatter([0, 1, 2], [npe_1000, npe_10000, npe_100000], s=20, c=col_npe)\n",
    "    ax[1].scatter([0, 1, 2], [snpe_1000, snpe_10000, snpe_100000], s=20, c=col_snpe)\n",
    "    ax[2].scatter([0, 1, 2], [tsnpe_1000, tsnpe_10000, tsnpe_100000], s=20, c=col_tsnpe)\n",
    "    \n",
    "    ax[0].plot([0, 0], [lower_conf_npe_1000, upper_conf_npe_1000], c=col_npe)\n",
    "    ax[1].plot([0, 0], [lower_conf_snpe_1000, upper_conf_snpe_1000], c=col_snpe)\n",
    "    ax[2].plot([0, 0], [lower_conf_tsnpe_1000, upper_conf_tsnpe_1000], c=col_tsnpe)\n",
    "    ax[0].plot([1, 1], [lower_conf_npe_10000, upper_conf_npe_10000], c=col_npe)\n",
    "    ax[1].plot([1, 1], [lower_conf_snpe_10000, upper_conf_snpe_10000], c=col_snpe)\n",
    "    ax[2].plot([1, 1], [lower_conf_tsnpe_10000, upper_conf_tsnpe_10000], c=col_tsnpe)\n",
    "    ax[0].plot([2, 2], [lower_conf_npe_100000, upper_conf_npe_100000], c=col_npe)\n",
    "    ax[1].plot([2, 2], [lower_conf_snpe_100000, upper_conf_snpe_100000], c=col_snpe)\n",
    "    ax[2].plot([2, 2], [lower_conf_tsnpe_100000, upper_conf_tsnpe_100000], c=col_tsnpe)\n",
    "    \n",
    "    for i in range(3):\n",
    "        ax[i].set_ylim([0.46, 1.04])\n",
    "        ax[i].spines[\"bottom\"].set_visible(False)\n",
    "        ax[i].spines[\"left\"].set_visible(False)\n",
    "        ax[i].grid(axis=\"y\", alpha=0.5)\n",
    "        ax[i].set_axisbelow(True)\n",
    "        ax[i].tick_params(axis=u'both', which=u'both',length=0)\n",
    "        ax[i].set_yticks([0.5, 0.6, 0.7, 0.8, 0.9, 1.0])\n",
    "        ax[i].set_xticks([0, 1, 2])\n",
    "        ax[i].set_xlim([-0.2, 2.2])\n",
    "        if xlabel:\n",
    "            ax[i].set_xticklabels([\"10³\", \"10⁴\", \"10⁵\"], rotation=90)\n",
    "            ax[1].set_xlabel(\"Number of simulations\")\n",
    "        else:\n",
    "            ax[i].set_xticklabels([])\n",
    "        \n",
    "    ax[2].set_title(task_name)\n",
    "    ax[0].set_ylabel(\"C2ST\")\n",
    "    ax[1].set_yticklabels([])\n",
    "    ax[2].set_yticklabels([])\n",
    "    return fig"
   ]
  },
  {
   "cell_type": "code",
   "execution_count": 31,
   "id": "3f1fb72f-169a-4fb6-8e67-9234e49c7698",
   "metadata": {},
   "outputs": [
    {
     "data": {
      "image/png": "[encoded data removed]",
      "text/plain": [
       "<Figure size 350x80 with 3 Axes>"
      ]
     },
     "metadata": {},
     "output_type": "display_data"
    }
   ],
   "source": [
    "results_subset = all_results.query(\"task == 'gaussian_linear'\")\n",
    "with mpl.rc_context(fname=\"../../.matplotlibrc\"):\n",
    "    fig = fig_metric_mpl(results_subset, metric=\"C2ST\", task_name=\"Gaussian Linear\", title=True, xlabel=False)\n",
    "    plt.savefig(\"../svg/panel_a.svg\")"
   ]
  },
  {
   "cell_type": "code",
   "execution_count": 17,
   "id": "c83ef067-9a22-423c-9a63-491ce3e78891",
   "metadata": {},
   "outputs": [
    {
     "data": {
      "image/png": "[encoded data removed]",
      "text/plain": [
       "<Figure size 350x80 with 3 Axes>"
      ]
     },
     "metadata": {},
     "output_type": "display_data"
    }
   ],
   "source": [
    "results_subset = all_results.query(\"task == 'slcp'\")\n",
    "with mpl.rc_context(fname=\"../../.matplotlibrc\"):\n",
    "    fig = fig_metric_mpl(results_subset, metric=\"C2ST\", task_name=\"SLCP\", title=False, xlabel=False)\n",
    "    plt.savefig(\"../svg/panel_b.svg\")"
   ]
  },
  {
   "cell_type": "code",
   "execution_count": 18,
   "id": "d4e1b301-4323-4f92-a4b5-1d89e4e9220d",
   "metadata": {},
   "outputs": [
    {
     "data": {
      "image/png": "[encoded data removed]",
      "text/plain": [
       "<Figure size 350x80 with 3 Axes>"
      ]
     },
     "metadata": {},
     "output_type": "display_data"
    }
   ],
   "source": [
    "results_subset = all_results.query(\"task == 'sir'\")\n",
    "with mpl.rc_context(fname=\"../../.matplotlibrc\"):\n",
    "    fig = fig_metric_mpl(results_subset, metric=\"C2ST\", task_name=\"SIR\", title=False, xlabel=False)\n",
    "    plt.savefig(\"../svg/panel_c.svg\")"
   ]
  },
  {
   "cell_type": "code",
   "execution_count": 19,
   "id": "59c95820-a7d9-418a-9964-e8b54a5e2562",
   "metadata": {},
   "outputs": [
    {
     "data": {
      "image/png": "[encoded data removed]",
      "text/plain": [
       "<Figure size 350x80 with 3 Axes>"
      ]
     },
     "metadata": {},
     "output_type": "display_data"
    }
   ],
   "source": [
    "results_subset = all_results.query(\"task == 'two_moons'\")\n",
    "with mpl.rc_context(fname=\"../../.matplotlibrc\"):\n",
    "    fig = fig_metric_mpl(results_subset, metric=\"C2ST\", task_name=\"Two Moons\", title=False, xlabel=False)\n",
    "    plt.savefig(\"../svg/panel_d.svg\")"
   ]
  },
  {
   "cell_type": "code",
   "execution_count": 20,
   "id": "dbc0a03d-ba9f-4110-b701-3e1de8ede8a4",
   "metadata": {},
   "outputs": [
    {
     "name": "stderr",
     "output_type": "stream",
     "text": [
      "/home/michael/anaconda3/envs/tsnpe/lib/python3.8/site-packages/numpy/core/fromnumeric.py:3474: RuntimeWarning: Mean of empty slice.\n",
      "  return _methods._mean(a, axis=axis, dtype=dtype,\n",
      "/home/michael/anaconda3/envs/tsnpe/lib/python3.8/site-packages/numpy/core/_methods.py:189: RuntimeWarning: invalid value encountered in double_scalars\n",
      "  ret = ret.dtype.type(ret / rcount)\n",
      "/home/michael/anaconda3/envs/tsnpe/lib/python3.8/site-packages/numpy/lib/nanfunctions.py:1560: RuntimeWarning: All-NaN slice encountered\n",
      "  r, k = function_base._ureduce(a,\n"
     ]
    },
    {
     "data": {
      "image/png": "[encoded data removed]",
      "text/plain": [
       "<Figure size 350x80 with 3 Axes>"
      ]
     },
     "metadata": {},
     "output_type": "display_data"
    }
   ],
   "source": [
    "results_subset = all_results.query(\"task == 'lotka_volterra'\")\n",
    "with mpl.rc_context(fname=\"../../.matplotlibrc\"):\n",
    "    fig = fig_metric_mpl(results_subset, metric=\"C2ST\", task_name=\"Lotka Volterra\", title=False, xlabel=False)\n",
    "    plt.savefig(\"../svg/panel_e.svg\")"
   ]
  },
  {
   "cell_type": "code",
   "execution_count": 21,
   "id": "192cbc57-bb58-4b8b-bf32-daf62ce132a7",
   "metadata": {},
   "outputs": [
    {
     "data": {
      "image/png": "[encoded data removed]",
      "text/plain": [
       "<Figure size 350x80 with 3 Axes>"
      ]
     },
     "metadata": {},
     "output_type": "display_data"
    }
   ],
   "source": [
    "results_subset = all_results.query(\"task == 'bernoulli_glm'\")\n",
    "with mpl.rc_context(fname=\"../../.matplotlibrc\"):\n",
    "    fig = fig_metric_mpl(results_subset, metric=\"C2ST\", task_name=\"Bernoulli GLM\", title=False, xlabel=True)\n",
    "    plt.savefig(\"../svg/panel_f.svg\")"
   ]
  },
  {
   "cell_type": "code",
   "execution_count": 191,
   "id": "5b81c2ba-a5b2-4de8-9f78-8eeb40c25f36",
   "metadata": {},
   "outputs": [],
   "source": [
    "def fig_diagnostic(\n",
    "    df: pd.DataFrame,\n",
    "    metric: str,\n",
    "    width: float = 3.5,\n",
    "    height: float = 0.7,\n",
    "    xlabel: bool = True,\n",
    "    title: bool = False,\n",
    "    task_name: str = \"\"\n",
    "):  \n",
    "    acceptance_rate = extract_diagnostic(df.query(\"algorithm == 'tsnpe'\"), \"acceptance rate\")\n",
    "    print(\"acceptance_rate\", acceptance_rate[0, 0])\n",
    "    acceptance_rate[:, :, 1:] = np.power(10, acceptance_rate[:, :, 1:])\n",
    "    print(\"acceptance_rate\", acceptance_rate[0, 0])\n",
    "    gt_in_support = extract_diagnostic(df.query(\"algorithm == 'tsnpe'\"))\n",
    "\n",
    "    av_acceptance_rate = np.mean(acceptance_rate, axis=1)\n",
    "    av_gt_in_support = np.mean(gt_in_support, axis=1)\n",
    "\n",
    "    fig, ax = plt.subplots(1, 2, figsize=(width, height))\n",
    "    ax[0].plot(np.arange(1, 11), av_acceptance_rate[0], c=\"k\", alpha=0.3)\n",
    "    ax[0].plot(np.arange(1, 11), av_acceptance_rate[1], c=\"k\", alpha=0.55)\n",
    "    ax[0].plot(np.arange(1, 11), av_acceptance_rate[2], c=\"k\", alpha=1.0)\n",
    "    ax[0].set_ylim([0, 1.01])\n",
    "    ax[0].set_xlim([1, 10])\n",
    "    ax[0].set_xticks(np.arange(1, 11))\n",
    "    ax[0].set_ylabel(\"acceptance rate\")\n",
    "    \n",
    "    ax[1].plot(np.arange(1, 11), av_gt_in_support[0], c=\"k\", alpha=0.3)\n",
    "    ax[1].plot(np.arange(1, 11), av_gt_in_support[1], c=\"k\", alpha=0.55)\n",
    "    ax[1].plot(np.arange(1, 11), av_gt_in_support[2], c=\"k\", alpha=1.0)\n",
    "    ax[1].set_ylim([0.95, 1.0001])\n",
    "    ax[1].set_xlim([1, 10])\n",
    "    ax[1].set_xticks(np.arange(1, 11))\n",
    "    if xlabel == False:\n",
    "        ax[0].set_xticklabels([])\n",
    "        ax[1].set_xticklabels([])\n",
    "    else:\n",
    "        ax[0].set_xlabel(\"Round\")\n",
    "        ax[1].set_xlabel(\"Round\")\n",
    "    ax[1].set_ylabel(\"gt in support\")\n",
    "    plt.subplots_adjust(wspace=0.8)\n",
    "    return fig"
   ]
  },
  {
   "cell_type": "code",
   "execution_count": 192,
   "id": "cc0a14ba-5081-47f4-bf4a-0ba0a86ed66a",
   "metadata": {},
   "outputs": [
    {
     "name": "stdout",
     "output_type": "stream",
     "text": [
      "acceptance_rate [ 1.00000000e+00  0.00000000e+00 -1.08605214e-04 -7.82434770e-04\n",
      " -8.25951924e-04 -3.07263620e-03 -3.64159024e-03 -2.70101428e-03\n",
      " -3.97018017e-03 -3.97018017e-03]\n",
      "acceptance_rate [1.         1.         0.99974996 0.9982     0.99809998 0.99294996\n",
      " 0.99164999 0.99379998 0.99089998 0.99089998]\n"
     ]
    },
    {
     "data": {
      "image/png": "[encoded data removed]",
      "text/plain": [
       "<Figure size 350x70 with 2 Axes>"
      ]
     },
     "metadata": {},
     "output_type": "display_data"
    }
   ],
   "source": [
    "results_subset = all_results.query(\"task == 'gaussian_linear'\")\n",
    "with mpl.rc_context(fname=\"../../.matplotlibrc\"):\n",
    "    fig = fig_diagnostic(results_subset, metric=\"C2ST\", task_name=\"Gaussian Linear\", title=True, xlabel=False)\n",
    "    plt.savefig(\"../svg/panel_a2.svg\")"
   ]
  },
  {
   "cell_type": "code",
   "execution_count": 193,
   "id": "e385453b-9a47-492c-a3a6-e13614a88600",
   "metadata": {},
   "outputs": [
    {
     "name": "stdout",
     "output_type": "stream",
     "text": [
      "acceptance_rate [ 1.         -0.00128307 -0.00191512 -0.00117419 -0.00158808 -0.00139199\n",
      " -0.00141376 -0.00132664 -0.00152272 -0.00324763]\n",
      "acceptance_rate [1.         0.99704999 0.99559999 0.99729997 0.99634999 0.99679995\n",
      " 0.99675    0.99694997 0.99649996 0.99254996]\n"
     ]
    },
    {
     "data": {
      "image/png": "[encoded data removed]",
      "text/plain": [
       "<Figure size 350x70 with 2 Axes>"
      ]
     },
     "metadata": {},
     "output_type": "display_data"
    }
   ],
   "source": [
    "results_subset = all_results.query(\"task == 'slcp'\")\n",
    "with mpl.rc_context(fname=\"../../.matplotlibrc\"):\n",
    "    fig = fig_diagnostic(results_subset, metric=\"C2ST\", task_name=\"SLCP\", title=True, xlabel=False)\n",
    "    plt.savefig(\"../svg/panel_b2.svg\")"
   ]
  },
  {
   "cell_type": "code",
   "execution_count": 194,
   "id": "3425b057-e078-411b-b09b-b8932c4480cc",
   "metadata": {},
   "outputs": [
    {
     "name": "stdout",
     "output_type": "stream",
     "text": [
      "acceptance_rate [ 1.         -0.00298515 -0.0039921  -0.00539694 -0.00986103 -0.04438441\n",
      " -0.04162728 -0.15391044 -0.37757874 -0.40135536]\n",
      "acceptance_rate [1.         0.99315    0.99084997 0.98764998 0.97754997 0.90284997\n",
      " 0.90859997 0.70159996 0.41919999 0.39686669]\n"
     ]
    },
    {
     "data": {
      "image/png": "[encoded data removed]",
      "text/plain": [
       "<Figure size 350x70 with 2 Axes>"
      ]
     },
     "metadata": {},
     "output_type": "display_data"
    }
   ],
   "source": [
    "results_subset = all_results.query(\"task == 'sir'\")\n",
    "with mpl.rc_context(fname=\"../../.matplotlibrc\"):\n",
    "    fig = fig_diagnostic(results_subset, metric=\"C2ST\", task_name=\"SLCP\", title=True, xlabel=False)\n",
    "    plt.savefig(\"../svg/panel_c2.svg\")"
   ]
  },
  {
   "cell_type": "code",
   "execution_count": 195,
   "id": "b206936d-ba92-42e2-9468-f5814e684a1c",
   "metadata": {},
   "outputs": [
    {
     "name": "stdout",
     "output_type": "stream",
     "text": [
      "acceptance_rate [ 1.         -0.16275889 -0.14569397 -0.27372119 -0.30598012 -0.27860165\n",
      " -0.48681569 -0.54526949 -0.54925066 -0.50797337]\n",
      "acceptance_rate [1.         0.68745    0.71499998 0.53244998 0.49433332 0.52649997\n",
      " 0.32597501 0.28492497 0.282325   0.31047499]\n"
     ]
    },
    {
     "data": {
      "image/png": "[encoded data removed]",
      "text/plain": [
       "<Figure size 350x70 with 2 Axes>"
      ]
     },
     "metadata": {},
     "output_type": "display_data"
    }
   ],
   "source": [
    "results_subset = all_results.query(\"task == 'two_moons'\")\n",
    "with mpl.rc_context(fname=\"../../.matplotlibrc\"):\n",
    "    fig = fig_diagnostic(results_subset, metric=\"C2ST\", task_name=\"SLCP\", title=True, xlabel=False)\n",
    "    plt.savefig(\"../svg/panel_d2.svg\")"
   ]
  },
  {
   "cell_type": "code",
   "execution_count": 196,
   "id": "fd93771d-7e3e-41f7-a55b-6cec136d1b6a",
   "metadata": {},
   "outputs": [
    {
     "name": "stdout",
     "output_type": "stream",
     "text": [
      "acceptance_rate [ 1.         -0.00917295 -0.01146335 -0.01170866 -0.05381804 -0.07582413\n",
      " -0.0960694  -0.31113544 -0.29149413 -0.33964056]\n",
      "acceptance_rate [1.         0.97909999 0.97394997 0.9734     0.88344997 0.83980001\n",
      " 0.80154997 0.48849999 0.51109999 0.45746665]\n"
     ]
    },
    {
     "data": {
      "image/png": "[encoded data removed]",
      "text/plain": [
       "<Figure size 350x70 with 2 Axes>"
      ]
     },
     "metadata": {},
     "output_type": "display_data"
    }
   ],
   "source": [
    "results_subset = all_results.query(\"task == 'bernoulli_glm'\")\n",
    "with mpl.rc_context(fname=\"../../.matplotlibrc\"):\n",
    "    fig = fig_diagnostic(results_subset, metric=\"C2ST\", task_name=\"SLCP\", title=True, xlabel=True)\n",
    "    plt.savefig(\"../svg/panel_f2.svg\")"
   ]
  },
  {
   "cell_type": "code",
   "execution_count": 197,
   "id": "37dcf970-07cc-49e6-a4f0-f9f56ef66f29",
   "metadata": {},
   "outputs": [],
   "source": [
    "import time\n",
    "import IPython.display as IPd\n",
    "\n",
    "def svg(img):\n",
    "    IPd.display(IPd.HTML('<img src=\"{}\" / >'.format(img, time.time())))"
   ]
  },
  {
   "cell_type": "code",
   "execution_count": 201,
   "id": "5b269eb4-ea5f-4694-8975-70ed3b46427a",
   "metadata": {},
   "outputs": [
    {
     "data": {
      "text/html": [
       "<img src=\"../fig/fig4.svg\" / >"
      ],
      "text/plain": [
       "<IPython.core.display.HTML object>"
      ]
     },
     "metadata": {},
     "output_type": "display_data"
    }
   ],
   "source": [
    "from svgutils.compose import *\n",
    "\n",
    "# > Inkscape pixel is 1/90 of an inch, other software usually uses 1/72.\n",
    "# > http://www.inkscapeforum.com/viewtopic.php?f=6&t=5964\n",
    "svg_scale = 1.25  # set this to 1.25 for Inkscape, 1.0 otherwise\n",
    "\n",
    "# Panel letters in Helvetica Neue, 12pt, Medium\n",
    "kwargs_text = {'size': '12pt', 'font': 'Arial', 'weight': '800'}\n",
    "kwargs_consistent = {'size': '10pt', 'font': 'Arial', 'weight': '500', 'color': '#AF99EF'}\n",
    "kwargs_consistent1 = {'size': '10pt', 'font': 'Arial', 'weight': '500', 'color': '#9E7DD5'}\n",
    "kwargs_inconsistent = {'size': '10pt', 'font': 'Arial', 'weight': '500', 'color': '#AF99EF'}\n",
    "kwargs_text8pt = {'size': '7.7pt', 'font': 'Arial'}\n",
    "\n",
    "f = Figure(\"15.7cm\", \"13.9cm\",\n",
    "\n",
    "    Panel(\n",
    "          SVG(\"../svg/panel_a.svg\").scale(svg_scale).move(0, 0),\n",
    "    ).move(-5, 0),\n",
    "    Panel(\n",
    "          SVG(\"../svg/panel_b.svg\").scale(svg_scale).move(0, 0),\n",
    "    ).move(-5, 93),\n",
    "    Panel(\n",
    "          SVG(\"../svg/panel_c.svg\").scale(svg_scale).move(0, 0),\n",
    "    ).move(-5, 171),\n",
    "    Panel(\n",
    "          SVG(\"../svg/panel_d.svg\").scale(svg_scale).move(0, 0),\n",
    "    ).move(-5, 249),\n",
    "    Panel(\n",
    "          SVG(\"../svg/panel_e.svg\").scale(svg_scale).move(0, 0),\n",
    "    ).move(-5, 327),\n",
    "    Panel(\n",
    "          SVG(\"../svg/panel_f.svg\").scale(svg_scale).move(0, 0),\n",
    "    ).move(-5, 405),\n",
    "           \n",
    "    Panel(\n",
    "          SVG(\"../svg/panel_a2.svg\").scale(svg_scale).move(0, 0),\n",
    "    ).move(300, 0),\n",
    "    Panel(\n",
    "          SVG(\"../svg/panel_b2.svg\").scale(svg_scale).move(0, 0),\n",
    "    ).move(300, 93),\n",
    "    Panel(\n",
    "          SVG(\"../svg/panel_c2.svg\").scale(svg_scale).move(0, 0),\n",
    "    ).move(300, 171),\n",
    "    Panel(\n",
    "          SVG(\"../svg/panel_d2.svg\").scale(svg_scale).move(0, 0),\n",
    "    ).move(300, 249),\n",
    "    Panel(\n",
    "          SVG(\"../svg/panel_f2.svg\").scale(svg_scale).move(0, 0),\n",
    "    ).move(300, 405),\n",
    ")\n",
    "\n",
    "f.save(\"../fig/fig4.svg\")\n",
    "svg('../fig/fig4.svg')"
   ]
  },
  {
   "cell_type": "code",
   "execution_count": null,
   "id": "dba36dcb-017f-4c29-b421-d951d192dff3",
   "metadata": {},
   "outputs": [],
   "source": []
  },
  {
   "cell_type": "code",
   "execution_count": null,
   "id": "a82e4cc3-6939-4ca2-b960-b67468abbcc8",
   "metadata": {},
   "outputs": [],
   "source": []
  }
 ],
 "metadata": {
  "kernelspec": {
   "display_name": "Python 3 (ipykernel)",
   "language": "python",
   "name": "python3"
  },
  "language_info": {
   "codemirror_mode": {
    "name": "ipython",
    "version": 3
   },
   "file_extension": ".py",
   "mimetype": "text/x-python",
   "name": "python",
   "nbconvert_exporter": "python",
   "pygments_lexer": "ipython3",
   "version": "3.8.13"
  }
 },
 "nbformat": 4,
 "nbformat_minor": 5
}
