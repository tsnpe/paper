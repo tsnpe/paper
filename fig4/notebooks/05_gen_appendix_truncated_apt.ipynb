{
 "cells": [
  {
   "cell_type": "code",
   "execution_count": 1,
   "id": "9d24876e-9d6e-4cdb-99e4-93f2bce1e0ef",
   "metadata": {},
   "outputs": [],
   "source": [
    "%load_ext autoreload\n",
    "%autoreload 2"
   ]
  },
  {
   "cell_type": "code",
   "execution_count": 2,
   "id": "16c582b8-57e8-43bf-864c-7dba34a77fc9",
   "metadata": {},
   "outputs": [],
   "source": [
    "import pandas as pd\n",
    "from sbibm.visualisation import fig_metric\n",
    "import matplotlib.pyplot as plt\n",
    "import matplotlib as mpl\n",
    "import scipy.stats as st\n",
    "import numpy as np\n",
    "import seaborn as sns\n",
    "from typing import Any, Dict, List, Optional\n",
    "\n",
    "from paper.utils import fig_metric_mpl, extract_diagnostic, fig_diagnostic"
   ]
  },
  {
   "cell_type": "code",
   "execution_count": 3,
   "id": "93a0fe20-c584-4c13-a14f-36b737f5c37d",
   "metadata": {},
   "outputs": [],
   "source": [
    "from benchmark.utils import compile_df"
   ]
  },
  {
   "cell_type": "code",
   "execution_count": 4,
   "id": "c3a97793-160b-4bcc-993b-cbe111afbdc6",
   "metadata": {},
   "outputs": [
    {
     "data": {
      "application/vnd.jupyter.widget-view+json": {
       "model_id": "002d34f45c774f9e89fdfcef3d173b89",
       "version_major": 2,
       "version_minor": 0
      },
      "text/plain": [
       "0it [00:00, ?it/s]"
      ]
     },
     "metadata": {},
     "output_type": "display_data"
    }
   ],
   "source": [
    "df = compile_df(\"../../../benchmark/results/truncated_apt\")"
   ]
  },
  {
   "cell_type": "code",
   "execution_count": 5,
   "id": "fb2abf24-69b9-4e58-ba37-7fe4c9bda484",
   "metadata": {},
   "outputs": [
    {
     "data": {
      "text/plain": [
       "30"
      ]
     },
     "execution_count": 5,
     "metadata": {},
     "output_type": "execute_result"
    }
   ],
   "source": [
    "len(df.query(\"task == 'gaussian_linear'\"))"
   ]
  },
  {
   "cell_type": "code",
   "execution_count": 17,
   "id": "1e394442-d177-4f43-b23a-f6902e9e2f20",
   "metadata": {},
   "outputs": [
    {
     "data": {
      "text/html": [
       "<div>\n",
       "<style scoped>\n",
       "    .dataframe tbody tr th:only-of-type {\n",
       "        vertical-align: middle;\n",
       "    }\n",
       "\n",
       "    .dataframe tbody tr th {\n",
       "        vertical-align: top;\n",
       "    }\n",
       "\n",
       "    .dataframe thead th {\n",
       "        text-align: right;\n",
       "    }\n",
       "</style>\n",
       "<table border=\"1\" class=\"dataframe\">\n",
       "  <thead>\n",
       "    <tr style=\"text-align: right;\">\n",
       "      <th></th>\n",
       "      <th>task</th>\n",
       "      <th>num_simulations</th>\n",
       "      <th>num_observation</th>\n",
       "      <th>algorithm</th>\n",
       "      <th>seed</th>\n",
       "      <th>acceptance rate</th>\n",
       "      <th>gt in support</th>\n",
       "      <th>iw var</th>\n",
       "      <th>C2ST</th>\n",
       "      <th>MMD</th>\n",
       "      <th>MEDDIST</th>\n",
       "      <th>NLTP</th>\n",
       "      <th>RT</th>\n",
       "      <th>num_simulations_simulator</th>\n",
       "      <th>path</th>\n",
       "      <th>folder</th>\n",
       "    </tr>\n",
       "  </thead>\n",
       "  <tbody>\n",
       "    <tr>\n",
       "      <th>0</th>\n",
       "      <td>slcp</td>\n",
       "      <td>10000</td>\n",
       "      <td>1</td>\n",
       "      <td>tsnpe</td>\n",
       "      <td>3818508039</td>\n",
       "      <td>[1.0, -0.0034226856660097837, -0.0050452984869...</td>\n",
       "      <td>[1.0, 0.9954000115394592, 0.9976000189781189, ...</td>\n",
       "      <td>[0.0, 2.9655163658048878e-08, 1.69729688082043...</td>\n",
       "      <td>0.93375</td>\n",
       "      <td>0.081596</td>\n",
       "      <td>19.879612</td>\n",
       "      <td>NaN</td>\n",
       "      <td>17.601086</td>\n",
       "      <td>10000.0</td>\n",
       "      <td>/home/michael/Documents/tsnpe_collection/paper...</td>\n",
       "      <td>1</td>\n",
       "    </tr>\n",
       "    <tr>\n",
       "      <th>2</th>\n",
       "      <td>slcp</td>\n",
       "      <td>10000</td>\n",
       "      <td>2</td>\n",
       "      <td>tsnpe</td>\n",
       "      <td>929262084</td>\n",
       "      <td>[1.0, -0.02266516350209713, -0.073451779782772...</td>\n",
       "      <td>[1.0, 0.9664000272750854, 0.9503999948501587, ...</td>\n",
       "      <td>[0.0, 1.6975876704350412e-08, 1.75811010194593...</td>\n",
       "      <td>0.90070</td>\n",
       "      <td>0.059382</td>\n",
       "      <td>23.870174</td>\n",
       "      <td>NaN</td>\n",
       "      <td>20.390015</td>\n",
       "      <td>10000.0</td>\n",
       "      <td>/home/michael/Documents/tsnpe_collection/paper...</td>\n",
       "      <td>3</td>\n",
       "    </tr>\n",
       "    <tr>\n",
       "      <th>5</th>\n",
       "      <td>slcp</td>\n",
       "      <td>10000</td>\n",
       "      <td>6</td>\n",
       "      <td>tsnpe</td>\n",
       "      <td>1871886682</td>\n",
       "      <td>[1.0, -0.005924941971898079, -0.00972777791321...</td>\n",
       "      <td>[1.0, 0.9979000091552734, 0.9998999834060669, ...</td>\n",
       "      <td>[0.0, 2.5859590024879253e-08, 2.08103880794396...</td>\n",
       "      <td>0.87290</td>\n",
       "      <td>0.024153</td>\n",
       "      <td>12.056589</td>\n",
       "      <td>NaN</td>\n",
       "      <td>14.585855</td>\n",
       "      <td>10000.0</td>\n",
       "      <td>/home/michael/Documents/tsnpe_collection/paper...</td>\n",
       "      <td>11</td>\n",
       "    </tr>\n",
       "    <tr>\n",
       "      <th>8</th>\n",
       "      <td>slcp</td>\n",
       "      <td>10000</td>\n",
       "      <td>4</td>\n",
       "      <td>tsnpe</td>\n",
       "      <td>4134173252</td>\n",
       "      <td>[1.0, -0.007049060892313719, -0.00456225918605...</td>\n",
       "      <td>[1.0, 0.9998000264167786, 0.9998000264167786, ...</td>\n",
       "      <td>[0.0, 1.663458881751012e-08, 1.627102186319007...</td>\n",
       "      <td>0.93290</td>\n",
       "      <td>0.103379</td>\n",
       "      <td>3.915072</td>\n",
       "      <td>NaN</td>\n",
       "      <td>14.960791</td>\n",
       "      <td>10000.0</td>\n",
       "      <td>/home/michael/Documents/tsnpe_collection/paper...</td>\n",
       "      <td>7</td>\n",
       "    </tr>\n",
       "    <tr>\n",
       "      <th>9</th>\n",
       "      <td>slcp</td>\n",
       "      <td>10000</td>\n",
       "      <td>3</td>\n",
       "      <td>tsnpe</td>\n",
       "      <td>1007474033</td>\n",
       "      <td>[1.0, -0.17999571561813354, -0.180884003639221...</td>\n",
       "      <td>[1.0, 0.9635000228881836, 0.9965000152587891, ...</td>\n",
       "      <td>[0.0, 1.5771707495559895e-08, 1.70570011448489...</td>\n",
       "      <td>0.77285</td>\n",
       "      <td>0.019017</td>\n",
       "      <td>26.887516</td>\n",
       "      <td>NaN</td>\n",
       "      <td>90.714624</td>\n",
       "      <td>10000.0</td>\n",
       "      <td>/home/michael/Documents/tsnpe_collection/paper...</td>\n",
       "      <td>5</td>\n",
       "    </tr>\n",
       "    <tr>\n",
       "      <th>102</th>\n",
       "      <td>slcp</td>\n",
       "      <td>10000</td>\n",
       "      <td>8</td>\n",
       "      <td>tsnpe</td>\n",
       "      <td>2144796835</td>\n",
       "      <td>[1.0, -0.13418561220169067, -0.119786836206913...</td>\n",
       "      <td>[1.0, 0.9768999814987183, 0.9932000041007996, ...</td>\n",
       "      <td>[0.0, 1.619179279543914e-08, 1.817572403695067...</td>\n",
       "      <td>0.90840</td>\n",
       "      <td>0.045710</td>\n",
       "      <td>24.647457</td>\n",
       "      <td>NaN</td>\n",
       "      <td>14.384505</td>\n",
       "      <td>10000.0</td>\n",
       "      <td>/home/michael/Documents/tsnpe_collection/paper...</td>\n",
       "      <td>1</td>\n",
       "    </tr>\n",
       "    <tr>\n",
       "      <th>103</th>\n",
       "      <td>slcp</td>\n",
       "      <td>10000</td>\n",
       "      <td>9</td>\n",
       "      <td>tsnpe</td>\n",
       "      <td>2227154412</td>\n",
       "      <td>[1.0, -0.016892656683921814, -0.01354179996997...</td>\n",
       "      <td>[1.0, 0.9984999895095825, 0.9991000294685364, ...</td>\n",
       "      <td>[0.0, 1.596530729841561e-08, 1.803837612612824...</td>\n",
       "      <td>0.90730</td>\n",
       "      <td>0.100180</td>\n",
       "      <td>10.820564</td>\n",
       "      <td>NaN</td>\n",
       "      <td>12.158535</td>\n",
       "      <td>10000.0</td>\n",
       "      <td>/home/michael/Documents/tsnpe_collection/paper...</td>\n",
       "      <td>3</td>\n",
       "    </tr>\n",
       "    <tr>\n",
       "      <th>106</th>\n",
       "      <td>slcp</td>\n",
       "      <td>10000</td>\n",
       "      <td>10</td>\n",
       "      <td>tsnpe</td>\n",
       "      <td>2968280200</td>\n",
       "      <td>[1.0, -0.010305522941052914, -0.02650271356105...</td>\n",
       "      <td>[1.0, 1.0, 1.0, 0.9994999766349792, 0.99849998...</td>\n",
       "      <td>[0.0, 1.577275554609514e-08, 1.666983351356066...</td>\n",
       "      <td>0.87950</td>\n",
       "      <td>0.102607</td>\n",
       "      <td>2.142412</td>\n",
       "      <td>NaN</td>\n",
       "      <td>10.637385</td>\n",
       "      <td>10000.0</td>\n",
       "      <td>/home/michael/Documents/tsnpe_collection/paper...</td>\n",
       "      <td>5</td>\n",
       "    </tr>\n",
       "  </tbody>\n",
       "</table>\n",
       "</div>"
      ],
      "text/plain": [
       "     task  num_simulations num_observation algorithm        seed  \\\n",
       "0    slcp            10000               1     tsnpe  3818508039   \n",
       "2    slcp            10000               2     tsnpe   929262084   \n",
       "5    slcp            10000               6     tsnpe  1871886682   \n",
       "8    slcp            10000               4     tsnpe  4134173252   \n",
       "9    slcp            10000               3     tsnpe  1007474033   \n",
       "102  slcp            10000               8     tsnpe  2144796835   \n",
       "103  slcp            10000               9     tsnpe  2227154412   \n",
       "106  slcp            10000              10     tsnpe  2968280200   \n",
       "\n",
       "                                       acceptance rate  \\\n",
       "0    [1.0, -0.0034226856660097837, -0.0050452984869...   \n",
       "2    [1.0, -0.02266516350209713, -0.073451779782772...   \n",
       "5    [1.0, -0.005924941971898079, -0.00972777791321...   \n",
       "8    [1.0, -0.007049060892313719, -0.00456225918605...   \n",
       "9    [1.0, -0.17999571561813354, -0.180884003639221...   \n",
       "102  [1.0, -0.13418561220169067, -0.119786836206913...   \n",
       "103  [1.0, -0.016892656683921814, -0.01354179996997...   \n",
       "106  [1.0, -0.010305522941052914, -0.02650271356105...   \n",
       "\n",
       "                                         gt in support  \\\n",
       "0    [1.0, 0.9954000115394592, 0.9976000189781189, ...   \n",
       "2    [1.0, 0.9664000272750854, 0.9503999948501587, ...   \n",
       "5    [1.0, 0.9979000091552734, 0.9998999834060669, ...   \n",
       "8    [1.0, 0.9998000264167786, 0.9998000264167786, ...   \n",
       "9    [1.0, 0.9635000228881836, 0.9965000152587891, ...   \n",
       "102  [1.0, 0.9768999814987183, 0.9932000041007996, ...   \n",
       "103  [1.0, 0.9984999895095825, 0.9991000294685364, ...   \n",
       "106  [1.0, 1.0, 1.0, 0.9994999766349792, 0.99849998...   \n",
       "\n",
       "                                                iw var     C2ST       MMD  \\\n",
       "0    [0.0, 2.9655163658048878e-08, 1.69729688082043...  0.93375  0.081596   \n",
       "2    [0.0, 1.6975876704350412e-08, 1.75811010194593...  0.90070  0.059382   \n",
       "5    [0.0, 2.5859590024879253e-08, 2.08103880794396...  0.87290  0.024153   \n",
       "8    [0.0, 1.663458881751012e-08, 1.627102186319007...  0.93290  0.103379   \n",
       "9    [0.0, 1.5771707495559895e-08, 1.70570011448489...  0.77285  0.019017   \n",
       "102  [0.0, 1.619179279543914e-08, 1.817572403695067...  0.90840  0.045710   \n",
       "103  [0.0, 1.596530729841561e-08, 1.803837612612824...  0.90730  0.100180   \n",
       "106  [0.0, 1.577275554609514e-08, 1.666983351356066...  0.87950  0.102607   \n",
       "\n",
       "       MEDDIST  NLTP         RT num_simulations_simulator  \\\n",
       "0    19.879612   NaN  17.601086                   10000.0   \n",
       "2    23.870174   NaN  20.390015                   10000.0   \n",
       "5    12.056589   NaN  14.585855                   10000.0   \n",
       "8     3.915072   NaN  14.960791                   10000.0   \n",
       "9    26.887516   NaN  90.714624                   10000.0   \n",
       "102  24.647457   NaN  14.384505                   10000.0   \n",
       "103  10.820564   NaN  12.158535                   10000.0   \n",
       "106   2.142412   NaN  10.637385                   10000.0   \n",
       "\n",
       "                                                  path folder  \n",
       "0    /home/michael/Documents/tsnpe_collection/paper...      1  \n",
       "2    /home/michael/Documents/tsnpe_collection/paper...      3  \n",
       "5    /home/michael/Documents/tsnpe_collection/paper...     11  \n",
       "8    /home/michael/Documents/tsnpe_collection/paper...      7  \n",
       "9    /home/michael/Documents/tsnpe_collection/paper...      5  \n",
       "102  /home/michael/Documents/tsnpe_collection/paper...      1  \n",
       "103  /home/michael/Documents/tsnpe_collection/paper...      3  \n",
       "106  /home/michael/Documents/tsnpe_collection/paper...      5  "
      ]
     },
     "execution_count": 17,
     "metadata": {},
     "output_type": "execute_result"
    }
   ],
   "source": [
    "df.query(\"task == 'slcp' and num_simulations==10000\")"
   ]
  },
  {
   "cell_type": "code",
   "execution_count": 12,
   "id": "27c2e615-b40e-4fd7-9291-656777bca612",
   "metadata": {},
   "outputs": [
    {
     "data": {
      "text/plain": [
       "28"
      ]
     },
     "execution_count": 12,
     "metadata": {},
     "output_type": "execute_result"
    }
   ],
   "source": [
    "len(df.query(\"task == 'slcp'\"))"
   ]
  },
  {
   "cell_type": "code",
   "execution_count": 7,
   "id": "c2c3f2ae-0471-4900-bfba-42fefee46f9c",
   "metadata": {},
   "outputs": [
    {
     "data": {
      "text/plain": [
       "30"
      ]
     },
     "execution_count": 7,
     "metadata": {},
     "output_type": "execute_result"
    }
   ],
   "source": [
    "len(df.query(\"task == 'two_moons'\"))"
   ]
  },
  {
   "cell_type": "code",
   "execution_count": 8,
   "id": "28f7a6ce-0b01-45ef-9689-f5e1743e3134",
   "metadata": {},
   "outputs": [
    {
     "data": {
      "text/plain": [
       "30"
      ]
     },
     "execution_count": 8,
     "metadata": {},
     "output_type": "execute_result"
    }
   ],
   "source": [
    "len(df.query(\"task == 'bernoulli_glm'\"))"
   ]
  },
  {
   "cell_type": "code",
   "execution_count": 9,
   "id": "1faf68ac-1150-4b2d-b1c5-17f61c7f2b80",
   "metadata": {},
   "outputs": [
    {
     "data": {
      "text/plain": [
       "30"
      ]
     },
     "execution_count": 9,
     "metadata": {},
     "output_type": "execute_result"
    }
   ],
   "source": [
    "len(df.query(\"task == 'sir'\"))"
   ]
  },
  {
   "cell_type": "code",
   "execution_count": 10,
   "id": "7fd34fe8-8c83-4280-ad03-df64d81027f3",
   "metadata": {},
   "outputs": [
    {
     "data": {
      "text/plain": [
       "30"
      ]
     },
     "execution_count": 10,
     "metadata": {},
     "output_type": "execute_result"
    }
   ],
   "source": [
    "len(df.query(\"task == 'lotka_volterra'\"))"
   ]
  },
  {
   "cell_type": "code",
   "execution_count": 114,
   "id": "b0e02205-bf0b-4f61-aebe-d2c393373e7e",
   "metadata": {},
   "outputs": [],
   "source": [
    "df1 = pd.read_csv(\"../../results/sbibm_results.csv\")"
   ]
  },
  {
   "cell_type": "code",
   "execution_count": 115,
   "id": "6f934d31-7c35-4e11-806b-4db4e659ace7",
   "metadata": {},
   "outputs": [],
   "source": [
    "npe_results = df1.query(\"algorithm == 'NPE'\")\n",
    "snpe_results = df1.query(\"algorithm == 'SNPE'\")"
   ]
  },
  {
   "cell_type": "code",
   "execution_count": 116,
   "id": "a25ca6f1-c54e-437a-b795-e97443fcefe7",
   "metadata": {},
   "outputs": [],
   "source": [
    "all_results = pd.concat([df, npe_results, snpe_results])"
   ]
  },
  {
   "cell_type": "code",
   "execution_count": 117,
   "id": "59c95820-a7d9-418a-9964-e8b54a5e2562",
   "metadata": {},
   "outputs": [
    {
     "data": {
      "image/png": "[encoded data removed]",
      "text/plain": [
       "<Figure size 350x80 with 3 Axes>"
      ]
     },
     "metadata": {},
     "output_type": "display_data"
    }
   ],
   "source": [
    "results_subset = all_results.query(\"task == 'two_moons'\")\n",
    "with mpl.rc_context(fname=\"../../.matplotlibrc\"):\n",
    "    fig = fig_metric_mpl(results_subset, metric=\"C2ST\", task_name=\"Two Moons\", title=False, xlabel=False)\n",
    "    plt.savefig(\"../svg/panel_d_truncated_apt.svg\", transparent=True)"
   ]
  },
  {
   "cell_type": "code",
   "execution_count": 118,
   "id": "192cbc57-bb58-4b8b-bf32-daf62ce132a7",
   "metadata": {},
   "outputs": [
    {
     "data": {
      "image/png": "[encoded data removed]",
      "text/plain": [
       "<Figure size 350x80 with 3 Axes>"
      ]
     },
     "metadata": {},
     "output_type": "display_data"
    }
   ],
   "source": [
    "results_subset = all_results.query(\"task == 'bernoulli_glm'\")\n",
    "with mpl.rc_context(fname=\"../../.matplotlibrc\"):\n",
    "    fig = fig_metric_mpl(results_subset, metric=\"C2ST\", task_name=\"Bernoulli GLM\", title=False, xlabel=True)\n",
    "    plt.savefig(\"../svg/panel_f_truncated_apt.svg\", transparent=True)"
   ]
  },
  {
   "cell_type": "code",
   "execution_count": 119,
   "id": "d4e1b301-4323-4f92-a4b5-1d89e4e9220d",
   "metadata": {},
   "outputs": [
    {
     "data": {
      "image/png": "[encoded data removed]",
      "text/plain": [
       "<Figure size 350x80 with 3 Axes>"
      ]
     },
     "metadata": {},
     "output_type": "display_data"
    }
   ],
   "source": [
    "results_subset = all_results.query(\"task == 'sir'\")\n",
    "with mpl.rc_context(fname=\"../../.matplotlibrc\"):\n",
    "    fig = fig_metric_mpl(results_subset, metric=\"C2ST\", task_name=\"SIR\", title=False, xlabel=False)\n",
    "    plt.savefig(\"../svg/panel_c_truncated_apt.svg\", transparent=True)"
   ]
  },
  {
   "cell_type": "code",
   "execution_count": 120,
   "id": "1e700b97-15e4-448e-8ebe-6888aa429278",
   "metadata": {},
   "outputs": [
    {
     "data": {
      "image/png": "[encoded data removed]",
      "text/plain": [
       "<Figure size 350x80 with 3 Axes>"
      ]
     },
     "metadata": {},
     "output_type": "display_data"
    }
   ],
   "source": [
    "results_subset = all_results.query(\"task == 'gaussian_linear'\")\n",
    "with mpl.rc_context(fname=\"../../.matplotlibrc\"):\n",
    "    fig = fig_metric_mpl(results_subset, metric=\"C2ST\", task_name=\"SIR\", title=False, xlabel=False)\n",
    "    plt.savefig(\"../svg/panel_a_truncated_apt.svg\", transparent=True)"
   ]
  },
  {
   "cell_type": "code",
   "execution_count": 121,
   "id": "ef35a9ca-891a-4196-95c2-abd77c31c8b7",
   "metadata": {},
   "outputs": [
    {
     "data": {
      "image/png": "[encoded data removed]",
      "text/plain": [
       "<Figure size 350x80 with 3 Axes>"
      ]
     },
     "metadata": {},
     "output_type": "display_data"
    }
   ],
   "source": [
    "results_subset = all_results.query(\"task == 'lotka_volterra'\")\n",
    "with mpl.rc_context(fname=\"../../.matplotlibrc\"):\n",
    "    fig = fig_metric_mpl(results_subset, metric=\"C2ST\", task_name=\"SIR\", title=False, xlabel=False)\n",
    "    plt.savefig(\"../svg/panel_e_truncated_apt.svg\", transparent=True)"
   ]
  },
  {
   "cell_type": "code",
   "execution_count": 122,
   "id": "a04a5d26-012f-476b-b19c-a300689981b8",
   "metadata": {},
   "outputs": [
    {
     "data": {
      "image/png": "[encoded data removed]",
      "text/plain": [
       "<Figure size 350x80 with 3 Axes>"
      ]
     },
     "metadata": {},
     "output_type": "display_data"
    }
   ],
   "source": [
    "results_subset = all_results.query(\"task == 'slcp'\")\n",
    "with mpl.rc_context(fname=\"../../.matplotlibrc\"):\n",
    "    fig = fig_metric_mpl(results_subset, metric=\"C2ST\", task_name=\"SIR\", title=False, xlabel=False)\n",
    "    plt.savefig(\"../svg/panel_b_truncated_apt.svg\", transparent=True)"
   ]
  },
  {
   "cell_type": "code",
   "execution_count": 123,
   "id": "9be0adb2-2fff-45c4-b2a3-64e61931bc8d",
   "metadata": {},
   "outputs": [
    {
     "data": {
      "image/png": "[encoded data removed]",
      "text/plain": [
       "<Figure size 350x70 with 2 Axes>"
      ]
     },
     "metadata": {},
     "output_type": "display_data"
    }
   ],
   "source": [
    "results_subset = all_results.query(\"task == 'gaussian_linear'\")\n",
    "with mpl.rc_context(fname=\"../../.matplotlibrc\"):\n",
    "    fig = fig_diagnostic(results_subset, metric=\"C2ST\", task_name=\"Gaussian Linear\", title=True, xlabel=False, legend=True)\n",
    "    plt.savefig(\"../svg/panel_a2_truncated_apt.svg\", transparent=True)"
   ]
  },
  {
   "cell_type": "code",
   "execution_count": 124,
   "id": "73761fde-fead-4a9e-8a24-7b15c4032edd",
   "metadata": {},
   "outputs": [
    {
     "name": "stderr",
     "output_type": "stream",
     "text": [
      "/home/michael/Documents/tsnpe_collection/paper/paper/utils.py:162: VisibleDeprecationWarning: Creating an ndarray from ragged nested sequences (which is a list-or-tuple of lists-or-tuples-or ndarrays with different lengths or shapes) is deprecated. If you meant to do this, you must specify 'dtype=object' when creating the ndarray.\n",
      "  return np.asarray(full)\n"
     ]
    },
    {
     "data": {
      "image/png": "[encoded data removed]",
      "text/plain": [
       "<Figure size 350x70 with 2 Axes>"
      ]
     },
     "metadata": {},
     "output_type": "display_data"
    }
   ],
   "source": [
    "results_subset = all_results.query(\"task == 'slcp'\")\n",
    "with mpl.rc_context(fname=\"../../.matplotlibrc\"):\n",
    "    fig = fig_diagnostic(results_subset, metric=\"C2ST\", task_name=\"SLCP\", title=True, xlabel=False)\n",
    "    plt.savefig(\"../svg/panel_b2_truncated_apt.svg\", transparent=True)"
   ]
  },
  {
   "cell_type": "code",
   "execution_count": 125,
   "id": "f0afd90c-48e6-41b4-8e15-b01c3774710d",
   "metadata": {},
   "outputs": [
    {
     "data": {
      "image/png": "[encoded data removed]",
      "text/plain": [
       "<Figure size 350x70 with 2 Axes>"
      ]
     },
     "metadata": {},
     "output_type": "display_data"
    }
   ],
   "source": [
    "results_subset = all_results.query(\"task == 'sir'\")\n",
    "with mpl.rc_context(fname=\"../../.matplotlibrc\"):\n",
    "    fig = fig_diagnostic(results_subset, metric=\"C2ST\", task_name=\"SLCP\", title=True, xlabel=False)\n",
    "    plt.savefig(\"../svg/panel_c2_truncated_apt.svg\", transparent=True)"
   ]
  },
  {
   "cell_type": "code",
   "execution_count": 126,
   "id": "260d3aa3-16f3-49c6-96ad-f5d894a01d01",
   "metadata": {},
   "outputs": [
    {
     "data": {
      "image/png": "[encoded data removed]",
      "text/plain": [
       "<Figure size 350x70 with 2 Axes>"
      ]
     },
     "metadata": {},
     "output_type": "display_data"
    }
   ],
   "source": [
    "results_subset = all_results.query(\"task == 'two_moons'\")\n",
    "with mpl.rc_context(fname=\"../../.matplotlibrc\"):\n",
    "    fig = fig_diagnostic(results_subset, metric=\"C2ST\", task_name=\"SLCP\", title=True, xlabel=False, ylabel=False)\n",
    "    plt.savefig(\"../svg/panel_d2_truncated_apt.svg\", transparent=True)"
   ]
  },
  {
   "cell_type": "code",
   "execution_count": 127,
   "id": "ba3e6bc6-8f50-438b-938a-6eaafd7e3293",
   "metadata": {},
   "outputs": [
    {
     "data": {
      "image/png": "[encoded data removed]",
      "text/plain": [
       "<Figure size 350x70 with 2 Axes>"
      ]
     },
     "metadata": {},
     "output_type": "display_data"
    }
   ],
   "source": [
    "results_subset = all_results.query(\"task == 'lotka_volterra'\")\n",
    "with mpl.rc_context(fname=\"../../.matplotlibrc\"):\n",
    "    fig = fig_diagnostic(results_subset, metric=\"C2ST\", task_name=\"SLCP\", title=True, xlabel=False)\n",
    "    plt.savefig(\"../svg/panel_e2_truncated_apt.svg\", transparent=True)"
   ]
  },
  {
   "cell_type": "code",
   "execution_count": 128,
   "id": "eea492f3-78d9-4001-a598-4daaceb1baf0",
   "metadata": {},
   "outputs": [
    {
     "data": {
      "image/png": "[encoded data removed]",
      "text/plain": [
       "<Figure size 350x70 with 2 Axes>"
      ]
     },
     "metadata": {},
     "output_type": "display_data"
    }
   ],
   "source": [
    "results_subset = all_results.query(\"task == 'bernoulli_glm'\")\n",
    "with mpl.rc_context(fname=\"../../.matplotlibrc\"):\n",
    "    fig = fig_diagnostic(results_subset, metric=\"C2ST\", task_name=\"SLCP\", title=True, xlabel=True)\n",
    "    plt.savefig(\"../svg/panel_f2_truncated_apt.svg\", transparent=True)"
   ]
  },
  {
   "cell_type": "code",
   "execution_count": 129,
   "id": "37dcf970-07cc-49e6-a4f0-f9f56ef66f29",
   "metadata": {},
   "outputs": [],
   "source": [
    "import time\n",
    "import IPython.display as IPd\n",
    "\n",
    "def svg(img):\n",
    "    IPd.display(IPd.HTML('<img src=\"{}\" / >'.format(img, time.time())))"
   ]
  },
  {
   "cell_type": "code",
   "execution_count": 131,
   "id": "5b269eb4-ea5f-4694-8975-70ed3b46427a",
   "metadata": {},
   "outputs": [
    {
     "data": {
      "text/html": [
       "<img src=\"../fig/fig4_truncated_apt.svg\" / >"
      ],
      "text/plain": [
       "<IPython.core.display.HTML object>"
      ]
     },
     "metadata": {},
     "output_type": "display_data"
    }
   ],
   "source": [
    "from svgutils.compose import *\n",
    "\n",
    "# > Inkscape pixel is 1/90 of an inch, other software usually uses 1/72.\n",
    "# > http://www.inkscapeforum.com/viewtopic.php?f=6&t=5964\n",
    "svg_scale = 1.25  # set this to 1.25 for Inkscape, 1.0 otherwise\n",
    "\n",
    "# Panel letters in Helvetica Neue, 12pt, Medium\n",
    "kwargs_text = {'size': '12pt', 'font': 'Arial', 'weight': '800'}\n",
    "kwargs_consistent = {'size': '10pt', 'font': 'Arial', 'weight': '500', 'color': '#AF99EF'}\n",
    "kwargs_consistent1 = {'size': '10pt', 'font': 'Arial', 'weight': '500', 'color': '#9E7DD5'}\n",
    "kwargs_inconsistent = {'size': '10pt', 'font': 'Arial', 'weight': '500', 'color': '#AF99EF'}\n",
    "kwargs_text8pt = {'size': '7.7pt', 'font': 'Arial'}\n",
    "\n",
    "f = Figure(\"15.7cm\", \"14.9cm\",\n",
    "\n",
    "    Panel(\n",
    "          SVG(\"../svg/panel_a_truncated_apt.svg\").scale(svg_scale).move(0, 0),\n",
    "        Text(\"Gaussian Linear\", 280, -.0, **kwargs_text8pt),\n",
    "    ).move(-5, 30),\n",
    "    Panel(\n",
    "          SVG(\"../svg/panel_b_truncated_apt.svg\").scale(svg_scale).move(0, 0),\n",
    "        Text(\"SLCP\", 300, -0.0, **kwargs_text8pt),\n",
    "    ).move(-5,120),\n",
    "    Panel(\n",
    "          SVG(\"../svg/panel_c_truncated_apt.svg\").scale(svg_scale).move(0, 0),\n",
    "        Text(\"SIR\", 303, -0.0, **kwargs_text8pt),\n",
    "    ).move(-5, 205),\n",
    "    Panel(\n",
    "          SVG(\"../svg/panel_d_truncated_apt.svg\").scale(svg_scale).move(0, 0),\n",
    "        Text(\"Two Moons\", 285, -0.0, **kwargs_text8pt),\n",
    "    ).move(-5, 290),\n",
    "    Panel(\n",
    "          SVG(\"../svg/panel_e_truncated_apt.svg\").scale(svg_scale).move(0, 0),\n",
    "        Text(\"Lotka Volterra\", 281, -0.0, **kwargs_text8pt),\n",
    "    ).move(-5, 375),\n",
    "    Panel(\n",
    "          SVG(\"../svg/panel_f_truncated_apt.svg\").scale(svg_scale).move(0, 0),\n",
    "        Text(\"Bernoulli GLM\", 280, -0.0, **kwargs_text8pt),\n",
    "    ).move(-5, 460),\n",
    "\n",
    "    Text(\"NPE\", 60, 10.0, **kwargs_text8pt),\n",
    "    Text(\"APT\", 147, 10.0, **kwargs_text8pt),\n",
    "    Text(\"Truncated APT\", 211, 10.0, **kwargs_text8pt),\n",
    "    Text(\"Acceptance rate\", 340, 10.0, **kwargs_text8pt),\n",
    "    Text(\"GT samples in support\", 480, 10.0, **kwargs_text8pt),\n",
    "    \n",
    "    Panel(\n",
    "          SVG(\"../svg/panel_a2_truncated_apt.svg\").scale(svg_scale).move(0, 0),\n",
    "    ).move(314, 5),\n",
    "    Panel(\n",
    "          SVG(\"../svg/panel_b2_truncated_apt.svg\").scale(svg_scale).move(0, 0),\n",
    "    ).move(314, 120),\n",
    "    Panel(\n",
    "          SVG(\"../svg/panel_c2_truncated_apt.svg\").scale(svg_scale).move(0, 0),\n",
    "    ).move(314, 205),\n",
    "    Panel(\n",
    "          SVG(\"../svg/panel_d2_truncated_apt.svg\").scale(svg_scale).move(0, 0),\n",
    "    ).move(314, 290),\n",
    "    Panel(\n",
    "          SVG(\"../svg/panel_e2_truncated_apt.svg\").scale(svg_scale).move(0, 0),\n",
    "    ).move(314, 375),\n",
    "    Panel(\n",
    "          SVG(\"../svg/panel_f2_truncated_apt.svg\").scale(svg_scale).move(0, 0),\n",
    "    ).move(314, 460),\n",
    ")\n",
    "\n",
    "f.save(\"../fig/fig4_truncated_apt.svg\")\n",
    "svg('../fig/fig4_truncated_apt.svg')"
   ]
  },
  {
   "cell_type": "code",
   "execution_count": null,
   "id": "dba36dcb-017f-4c29-b421-d951d192dff3",
   "metadata": {},
   "outputs": [],
   "source": []
  },
  {
   "cell_type": "code",
   "execution_count": null,
   "id": "a82e4cc3-6939-4ca2-b960-b67468abbcc8",
   "metadata": {},
   "outputs": [],
   "source": []
  }
 ],
 "metadata": {
  "kernelspec": {
   "display_name": "Python 3 (ipykernel)",
   "language": "python",
   "name": "python3"
  },
  "language_info": {
   "codemirror_mode": {
    "name": "ipython",
    "version": 3
   },
   "file_extension": ".py",
   "mimetype": "text/x-python",
   "name": "python",
   "nbconvert_exporter": "python",
   "pygments_lexer": "ipython3",
   "version": "3.8.13"
  }
 },
 "nbformat": 4,
 "nbformat_minor": 5
}
