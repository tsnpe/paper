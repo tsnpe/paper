{
 "cells": [
  {
   "cell_type": "code",
   "execution_count": 1,
   "id": "b834b290-46e6-41d0-95db-a91eb023dd5a",
   "metadata": {},
   "outputs": [],
   "source": [
    "from torch import ones, zeros, as_tensor, float32, eye\n",
    "from torch.distributions import Normal\n",
    "import torch\n",
    "import numpy as np\n",
    "import matplotlib.pyplot as plt\n",
    "import matplotlib as mpl\n",
    "from math import log"
   ]
  },
  {
   "cell_type": "code",
   "execution_count": 2,
   "id": "6dd8f0db-ddb8-4833-8dae-d84b49052296",
   "metadata": {},
   "outputs": [],
   "source": [
    "def func(theta):\n",
    "    n1 = Normal(-2, 1)\n",
    "    n2 = Normal(3, 1)\n",
    "    return 0.5*torch.exp(n1.log_prob(theta)) + torch.exp(n2.log_prob(theta))"
   ]
  },
  {
   "cell_type": "code",
   "execution_count": 3,
   "id": "86a6c9f1-4814-4750-91ba-b0e8ab93c234",
   "metadata": {},
   "outputs": [],
   "source": [
    "thetas = torch.linspace(-6, 7.5, 500)"
   ]
  },
  {
   "cell_type": "code",
   "execution_count": 4,
   "id": "2d7b606a-7544-44b9-b822-6a2e6726fa9c",
   "metadata": {},
   "outputs": [],
   "source": [
    "xs = func(thetas)\n",
    "val = 0.1\n",
    "vals = thetas[xs > val]"
   ]
  },
  {
   "cell_type": "code",
   "execution_count": 5,
   "id": "713d10de-1462-481b-8ea8-dd2325b7b59b",
   "metadata": {},
   "outputs": [],
   "source": [
    "thr1 = -3.1593\n",
    "thr2 = -0.8327\n",
    "\n",
    "thr3 = 1.3587\n",
    "thr4 = 4.6593"
   ]
  },
  {
   "cell_type": "code",
   "execution_count": 6,
   "id": "b81d7570-02df-49b6-baa8-695f187271ef",
   "metadata": {},
   "outputs": [],
   "source": [
    "ind1 = torch.where(torch.abs(thetas-thr1)<0.01)[0]\n",
    "ind2 = torch.where(torch.abs(thetas-thr2)<0.01)[0]\n",
    "ind3 = torch.where(torch.abs(thetas-thr3)<0.01)[0]\n",
    "ind4 = torch.where(torch.abs(thetas-thr4)<0.01)[0]"
   ]
  },
  {
   "cell_type": "code",
   "execution_count": 7,
   "id": "f106f76f-cec5-454c-93b7-b937e54c4f90",
   "metadata": {},
   "outputs": [],
   "source": [
    "n1 = Normal(-2, 1)\n",
    "n2 = Normal(3, 1)\n",
    "_ = torch.manual_seed(0)\n",
    "samples1 = n1.sample((20,))\n",
    "samples2 = n2.sample((40,))\n",
    "samples = torch.cat([samples1, samples2])\n",
    "\n",
    "c1 = torch.logical_and(samples > thr1, samples < thr2)\n",
    "c2 = torch.logical_and(samples > thr3, samples < thr4)\n",
    "c = torch.logical_or(c1, c2)\n",
    "batch1 = samples[c]\n",
    "batch2 = samples[torch.logical_not(c)]"
   ]
  },
  {
   "cell_type": "code",
   "execution_count": 8,
   "id": "a67fbd3a-5596-4241-b22d-9149b4205627",
   "metadata": {},
   "outputs": [],
   "source": [
    "theta_star = -2.5"
   ]
  },
  {
   "cell_type": "code",
   "execution_count": 9,
   "id": "dba4f1cd-5be9-4db0-9e31-fd1d55aa12e5",
   "metadata": {},
   "outputs": [
    {
     "data": {
      "image/png": "[encoded data removed]",
      "text/plain": [
       "<Figure size 250x140 with 1 Axes>"
      ]
     },
     "metadata": {},
     "output_type": "display_data"
    }
   ],
   "source": [
    "with mpl.rc_context(fname=\"../../.matplotlibrc\"):\n",
    "    fig, ax = plt.subplots(1, 1, figsize=(2.5, 1.4))\n",
    "    ax.plot(thetas.numpy(), xs.numpy(), c=\"k\")\n",
    "    x1 = xs[ind1:ind2]\n",
    "    x2 = xs[ind3:ind4]\n",
    "    ax.fill_between(np.linspace(thr1, thr2, len(x1)), np.zeros_like(x1.numpy()), x1.numpy(), color=\"gray\", alpha=0.5)\n",
    "    ax.fill_between(np.linspace(thr3, thr4, len(x2)), np.zeros_like(x2.numpy()), x2.numpy(), color=\"gray\", alpha=0.5)\n",
    "    ax.scatter(batch1.numpy(), np.zeros((len(batch1),))+0.001, s=5, c=\"#d7301f\")\n",
    "    ax.scatter(batch2.numpy(), np.zeros((len(batch2),))+0.001, s=5, c=\"#0570b0\")\n",
    "    ax.plot([theta_star, theta_star], [-0.0, 0.45], c=\"green\")\n",
    "    ax.set_ylim([-0.01, 0.45])\n",
    "    ax.set_xlabel(r\"$\\theta$\")\n",
    "    ax.set_xticks([])\n",
    "    ax.set_yticks([])\n",
    "    ax.spines[\"left\"].set_visible(False)\n",
    "    ax.spines[\"bottom\"].set_visible(False)\n",
    "    plt.savefig(\"../svg/panel_a.svg\")"
   ]
  },
  {
   "cell_type": "code",
   "execution_count": 10,
   "id": "a8e2bd88-d963-4131-8046-c37d05bad40b",
   "metadata": {},
   "outputs": [
    {
     "data": {
      "image/png": "[encoded data removed]",
      "text/plain": [
       "<Figure size 180x135 with 1 Axes>"
      ]
     },
     "metadata": {},
     "output_type": "display_data"
    }
   ],
   "source": [
    "with mpl.rc_context(fname=\"../../.matplotlibrc\"):\n",
    "    fig, ax = plt.subplots(1, 1, figsize=(1.8, 1.35))\n",
    "    lprobs1 = torch.log(func(batch1))\n",
    "    lprobs2 = torch.log(func(batch2))\n",
    "    lstar = torch.log(func(torch.as_tensor([theta_star])))\n",
    "    for l in lprobs1:\n",
    "        ax.plot([l.numpy(), l.numpy()], [0, 1], c=\"#d7301f\")\n",
    "    for l in lprobs2:\n",
    "        ax.plot([l.numpy(), l.numpy()], [0, 1], c=\"#0570b0\")\n",
    "    \n",
    "    ax.plot([lstar.numpy(), lstar.numpy()], [0, 1.5], c=\"green\")\n",
    "    ax.set_xticks([])\n",
    "    ax.set_yticks([])\n",
    "    ax.set_ylim([0, 1.5])\n",
    "    ax.spines[\"left\"].set_visible(False)\n",
    "    ax.set_xlabel(r\"log(p($\\theta$))\")\n",
    "    plt.savefig(\"../svg/panel_b.svg\")"
   ]
  },
  {
   "cell_type": "code",
   "execution_count": 11,
   "id": "e211989c-8f12-415d-b244-d67468fa1597",
   "metadata": {},
   "outputs": [],
   "source": [
    "xx = torch.linspace(0.5,1.5, 50)\n",
    "vals = xx**2\n",
    "cum1 = torch.cumsum(vals, dim=0)\n",
    "cum1 = cum1 / cum1[-1]\n",
    "\n",
    "xx1 = torch.linspace(-1.5, -0.5, 50)\n",
    "vals = xx1**2"
   ]
  },
  {
   "cell_type": "code",
   "execution_count": 12,
   "id": "f712f248-290b-417e-97a4-df203bb85f8d",
   "metadata": {},
   "outputs": [],
   "source": [
    "cum2 = torch.cumsum(vals, dim=0)\n",
    "cum2 = cum2 / cum2[-1]"
   ]
  },
  {
   "cell_type": "code",
   "execution_count": 13,
   "id": "4f628216-0515-4c58-bf1e-32ae29fe8cea",
   "metadata": {},
   "outputs": [],
   "source": [
    "xx = torch.linspace(0, 1, 50)"
   ]
  },
  {
   "cell_type": "code",
   "execution_count": 14,
   "id": "1bc3caf8-671e-4d1d-bbf9-75227a610ad9",
   "metadata": {},
   "outputs": [
    {
     "data": {
      "image/png": "[encoded data removed]",
      "text/plain": [
       "<Figure size 135x135 with 1 Axes>"
      ]
     },
     "metadata": {},
     "output_type": "display_data"
    }
   ],
   "source": [
    "with mpl.rc_context(fname=\"../../.matplotlibrc\"):\n",
    "    fig, ax = plt.subplots(1, 1, figsize=(1.35, 1.35))\n",
    "    ax.plot([0,1], [0,1], c=\"grey\")\n",
    "    ax.plot(xx.numpy(), cum1.numpy(), c=\"#6e016b\")\n",
    "    ax.plot(xx.numpy(), cum2.numpy(), c=\"#8c6bb1\")\n",
    "    ax.set_xticks([0, 1])\n",
    "    ax.set_yticks([0, 1])\n",
    "    ax.set_xlim([0, 1])\n",
    "    ax.set_ylim([0, 1])\n",
    "    ax.set_xlabel(r\"log(p($\\theta$))\")\n",
    "    ax.set_xlabel(\"Confidence level\")\n",
    "    ax.set_ylabel(\"Empirical coverage\")\n",
    "    plt.savefig(\"../svg/panel_c.svg\")"
   ]
  },
  {
   "cell_type": "code",
   "execution_count": 15,
   "id": "8ac9f062-342d-4429-ae7e-6600ab739708",
   "metadata": {},
   "outputs": [],
   "source": [
    "import time\n",
    "import IPython.display as IPd\n",
    "\n",
    "def svg(img):\n",
    "    IPd.display(IPd.HTML('<img src=\"{}\" / >'.format(img, time.time())))"
   ]
  },
  {
   "cell_type": "code",
   "execution_count": 16,
   "id": "ec215b79-2631-4f31-8216-3f44bd52ecd0",
   "metadata": {},
   "outputs": [
    {
     "data": {
      "text/html": [
       "<img src=\"../fig/fig2.svg\" / >"
      ],
      "text/plain": [
       "<IPython.core.display.HTML object>"
      ]
     },
     "metadata": {},
     "output_type": "display_data"
    }
   ],
   "source": [
    "from svgutils.compose import *\n",
    "\n",
    "# > Inkscape pixel is 1/90 of an inch, other software usually uses 1/72.\n",
    "# > http://www.inkscapeforum.com/viewtopic.php?f=6&t=5964\n",
    "svg_scale = 1.25  # set this to 1.25 for Inkscape, 1.0 otherwise\n",
    "\n",
    "# Panel letters in Helvetica Neue, 12pt, Medium\n",
    "kwargs_text = {'size': '12pt', 'font': 'Arial', 'weight': '800'}\n",
    "kwargs_consistent = {'size': '10pt', 'font': 'Arial', 'weight': '500', 'color': '#AF99EF'}\n",
    "kwargs_consistent1 = {'size': '10pt', 'font': 'Arial', 'weight': '500', 'color': '#9E7DD5'}\n",
    "kwargs_inconsistent = {'size': '10pt', 'font': 'Arial', 'weight': '500', 'color': '#AF99EF'}\n",
    "kwargs_text8pt = {'size': '7.7pt', 'font': 'Arial'}\n",
    "\n",
    "f = Figure(\"15.7cm\", \"3.8cm\",\n",
    "           \n",
    "    Panel(\n",
    "          SVG(\"../svg/panel_a.svg\").scale(svg_scale).move(0, 0),\n",
    "          Text(\"a\", 5, 8.0, **kwargs_text),\n",
    "    ).move(-5, 5),\n",
    "    Panel(\n",
    "          SVG(\"../svg/panel_b.svg\").scale(svg_scale).move(0, 0),\n",
    "          Text(\"b\", -10, 8.0, **kwargs_text),\n",
    "    ).move(200, 5),\n",
    "    Panel(\n",
    "          SVG(\"../svg/panel_c.svg\").scale(svg_scale).move(0, 0),\n",
    "          Text(\"c\", -10, 13.0, **kwargs_text),\n",
    "        Text(\"overconf.\", 83, 93.0, **kwargs_text8pt),\n",
    "        Text(\"underconf.\", 50, 25.0, **kwargs_text8pt),\n",
    "    ).move(380, 0),\n",
    ")\n",
    "\n",
    "f.save(\"../fig/fig2.svg\")\n",
    "svg('../fig/fig2.svg')"
   ]
  },
  {
   "cell_type": "code",
   "execution_count": null,
   "id": "bd6143e4-1ab7-4479-9af3-e9d3c6f4c448",
   "metadata": {},
   "outputs": [],
   "source": []
  }
 ],
 "metadata": {
  "kernelspec": {
   "display_name": "Python 3 (ipykernel)",
   "language": "python",
   "name": "python3"
  },
  "language_info": {
   "codemirror_mode": {
    "name": "ipython",
    "version": 3
   },
   "file_extension": ".py",
   "mimetype": "text/x-python",
   "name": "python",
   "nbconvert_exporter": "python",
   "pygments_lexer": "ipython3",
   "version": "3.8.13"
  }
 },
 "nbformat": 4,
 "nbformat_minor": 5
}
